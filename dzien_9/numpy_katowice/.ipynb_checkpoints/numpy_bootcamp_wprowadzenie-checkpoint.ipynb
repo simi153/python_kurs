{
 "cells": [
  {
   "cell_type": "markdown",
   "metadata": {
    "ExecuteTime": {
     "end_time": "2016-12-02T01:30:00.799268",
     "start_time": "2016-12-02T01:30:00.794264"
    },
    "nbpresent": {
     "id": "a0579179-a545-4bee-a105-63369aa74af7"
    }
   },
   "source": [
    "# NumPy  \n",
    "<img src=\"https://bids.berkeley.edu/sites/default/files/styles/400x225/public/projects/numpy_project_page.jpg\" />"
   ]
  },
  {
   "cell_type": "markdown",
   "metadata": {
    "nbpresent": {
     "id": "566c210d-d08a-4499-a3fd-c910384d0b3e"
    }
   },
   "source": [
    "http://www.numpy.org/  \n",
    "\n",
    "https://docs.scipy.org/doc/numpy-dev/user/quickstart.html  \n",
    "\n",
    "https://github.com/numpy/numpy\n",
    "\n",
    "**Dodatkowe tutoriale**  \n",
    "\n",
    "Numerical Computing in Python - http://nbviewer.jupyter.org/github/phelps-sg/python-bigdata/blob/master/src/main/ipynb/numerical-slides.ipynb"
   ]
  },
  {
   "cell_type": "markdown",
   "metadata": {
    "nbpresent": {
     "id": "88e63dff-8606-429e-a84e-c3b84a0473d9"
    }
   },
   "source": [
    "**NumPy** to podstawowa paczka do obliczeń naukowyh w Pythonie. Zawiera między innymi:\n",
    "\n",
    "- ndarray - N-wymiarowa tablica\n",
    "- wyrafinowane funkcje - np oferujące mechanizm broadcastingu, wektoryzacja\n",
    "- narzędzia do integracji z C/C++/Fortranem\n",
    "- użyteczna algebra liniowa, transformacje Fouriera, randomizacje\n",
    "\n",
    "Oprócz oczywistych naukowych zastosowań, NumPy może być również wykorzystywany jako wydajny, wielowymiarowy kontener danych. Można zdefiniować arbitralne typy danych. Pozwala to NumPy na bezproblemową i szybką integrację z szeroką gamą baz danych.\n",
    "\n",
    "NumPy jest licencjonowany na podstawie ** licencji BSD **, co pozwala na ponowne użycie z kilkoma ograniczeniami.\n"
   ]
  },
  {
   "cell_type": "markdown",
   "metadata": {
    "ExecuteTime": {
     "end_time": "2016-12-02T01:42:17.093037",
     "start_time": "2016-12-02T01:42:17.090035"
    },
    "nbpresent": {
     "id": "2d4bea6e-9073-4322-8528-391efc015e25"
    }
   },
   "source": [
    "## Importowanie\n",
    "\n",
    "konwencja:"
   ]
  },
  {
   "cell_type": "code",
   "execution_count": null,
   "metadata": {
    "ExecuteTime": {
     "end_time": "2016-12-02T19:35:27.356529",
     "start_time": "2016-12-02T19:35:27.155399"
    },
    "nbpresent": {
     "id": "fbbafb94-6cce-4229-95b8-7f39e9aa17b4"
    },
    "run_control": {
     "frozen": false,
     "read_only": false
    }
   },
   "outputs": [],
   "source": [
    "import numpy as np"
   ]
  },
  {
   "cell_type": "markdown",
   "metadata": {
    "ExecuteTime": {
     "end_time": "2016-12-03T13:01:33.569892",
     "start_time": "2016-12-03T13:01:33.566890"
    }
   },
   "source": [
    "## Advantages of NumPy"
   ]
  },
  {
   "cell_type": "markdown",
   "metadata": {
    "ExecuteTime": {
     "end_time": "2016-12-03T13:02:40.675516",
     "start_time": "2016-12-03T13:02:40.671500"
    }
   },
   "source": [
    "1e-3 ms  \n",
    "1e-6 µs  \n",
    "1e-9 ns"
   ]
  },
  {
   "cell_type": "code",
   "execution_count": null,
   "metadata": {
    "ExecuteTime": {
     "end_time": "2016-12-03T13:00:44.991824",
     "start_time": "2016-12-03T13:00:44.983818"
    }
   },
   "outputs": [],
   "source": [
    "a = [0,1,2,3,4,5] * 100000\n",
    "b = np.array(a)\n",
    "len(a)"
   ]
  },
  {
   "cell_type": "code",
   "execution_count": null,
   "metadata": {
    "ExecuteTime": {
     "end_time": "2016-12-03T12:58:11.150658",
     "start_time": "2016-12-03T12:58:11.145641"
    }
   },
   "outputs": [],
   "source": [
    "b*2"
   ]
  },
  {
   "cell_type": "code",
   "execution_count": null,
   "metadata": {
    "ExecuteTime": {
     "end_time": "2016-12-03T13:00:11.565039",
     "start_time": "2016-12-03T13:00:11.424942"
    }
   },
   "outputs": [],
   "source": [
    "%%timeit -n1\n",
    "[x*2 for x in a]"
   ]
  },
  {
   "cell_type": "code",
   "execution_count": null,
   "metadata": {
    "ExecuteTime": {
     "end_time": "2016-12-03T13:00:11.604054",
     "start_time": "2016-12-03T13:00:11.594046"
    }
   },
   "outputs": [],
   "source": [
    "%%timeit -n1\n",
    "b*2"
   ]
  },
  {
   "cell_type": "code",
   "execution_count": null,
   "metadata": {
    "ExecuteTime": {
     "end_time": "2016-12-03T13:00:28.235547",
     "start_time": "2016-12-03T13:00:28.215545"
    }
   },
   "outputs": [],
   "source": [
    "%%timeit -n1\n",
    "sum(a)"
   ]
  },
  {
   "cell_type": "code",
   "execution_count": null,
   "metadata": {
    "ExecuteTime": {
     "end_time": "2016-12-03T13:00:24.908957",
     "start_time": "2016-12-03T13:00:24.903939"
    }
   },
   "outputs": [],
   "source": [
    "%%timeit -n1\n",
    "b.sum()"
   ]
  },
  {
   "cell_type": "markdown",
   "metadata": {
    "nbpresent": {
     "id": "2c8e7e23-ddbd-45b4-8c05-087f0d021802"
    }
   },
   "source": [
    "## tablica - array"
   ]
  },
  {
   "cell_type": "code",
   "execution_count": null,
   "metadata": {
    "ExecuteTime": {
     "end_time": "2016-12-02T19:35:27.373541",
     "start_time": "2016-12-02T19:35:27.357529"
    },
    "nbpresent": {
     "id": "2dc8df31-a070-4603-9035-35e429437df3"
    },
    "run_control": {
     "frozen": false,
     "read_only": false
    }
   },
   "outputs": [],
   "source": [
    "a = np.array([[0, 1],[2,3], [4,5]])\n",
    "a"
   ]
  },
  {
   "cell_type": "code",
   "execution_count": null,
   "metadata": {
    "ExecuteTime": {
     "end_time": "2016-12-02T19:35:27.379544",
     "start_time": "2016-12-02T19:35:27.374542"
    },
    "nbpresent": {
     "id": "c837faab-54ff-42d8-87d0-1db7e9772aa6"
    },
    "run_control": {
     "frozen": false,
     "read_only": false
    }
   },
   "outputs": [],
   "source": [
    "type(a)"
   ]
  },
  {
   "cell_type": "code",
   "execution_count": null,
   "metadata": {
    "ExecuteTime": {
     "end_time": "2016-12-02T19:35:27.388554",
     "start_time": "2016-12-02T19:35:27.381548"
    },
    "run_control": {
     "frozen": false,
     "read_only": false
    }
   },
   "outputs": [],
   "source": [
    "a*5"
   ]
  },
  {
   "cell_type": "code",
   "execution_count": null,
   "metadata": {
    "ExecuteTime": {
     "end_time": "2016-12-02T19:35:27.398561",
     "start_time": "2016-12-02T19:35:27.390552"
    },
    "run_control": {
     "frozen": false,
     "read_only": false
    }
   },
   "outputs": [],
   "source": [
    "[[0, 1],[2,3],[4,5]] * 5"
   ]
  },
  {
   "cell_type": "code",
   "execution_count": null,
   "metadata": {
    "ExecuteTime": {
     "end_time": "2016-12-02T19:35:27.412569",
     "start_time": "2016-12-02T19:35:27.400559"
    },
    "run_control": {
     "frozen": false,
     "read_only": false
    }
   },
   "outputs": [],
   "source": [
    "[1]*5"
   ]
  },
  {
   "cell_type": "code",
   "execution_count": null,
   "metadata": {
    "ExecuteTime": {
     "end_time": "2016-12-02T19:35:27.422576",
     "start_time": "2016-12-02T19:35:27.413568"
    },
    "run_control": {
     "frozen": false,
     "read_only": false
    }
   },
   "outputs": [],
   "source": [
    "b = np.array([[2,3], [1,2], [0,1]])\n",
    "b"
   ]
  },
  {
   "cell_type": "code",
   "execution_count": null,
   "metadata": {
    "ExecuteTime": {
     "end_time": "2016-12-02T19:35:27.439587",
     "start_time": "2016-12-02T19:35:27.425577"
    },
    "run_control": {
     "frozen": false,
     "read_only": false
    }
   },
   "outputs": [],
   "source": [
    "b*a"
   ]
  },
  {
   "cell_type": "code",
   "execution_count": null,
   "metadata": {
    "ExecuteTime": {
     "end_time": "2016-12-02T19:35:27.474612",
     "start_time": "2016-12-02T19:35:27.462603"
    },
    "run_control": {
     "frozen": false,
     "read_only": false
    }
   },
   "outputs": [],
   "source": [
    "a.T"
   ]
  },
  {
   "cell_type": "markdown",
   "metadata": {
    "ExecuteTime": {
     "end_time": "2016-12-02T01:42:51.700874",
     "start_time": "2016-12-02T01:42:51.697860"
    },
    "nbpresent": {
     "id": "57402261-8575-4d85-a386-842fdd4b1f03"
    }
   },
   "source": [
    "## zeros - tablice wypełnione zerami"
   ]
  },
  {
   "cell_type": "code",
   "execution_count": null,
   "metadata": {
    "ExecuteTime": {
     "end_time": "2016-12-02T19:35:27.484621",
     "start_time": "2016-12-02T19:35:27.477614"
    },
    "nbpresent": {
     "id": "76439e03-a625-4976-ad69-69170a2c4a90"
    },
    "run_control": {
     "frozen": false,
     "read_only": false
    }
   },
   "outputs": [],
   "source": [
    "np.zeros(5)"
   ]
  },
  {
   "cell_type": "code",
   "execution_count": null,
   "metadata": {
    "ExecuteTime": {
     "end_time": "2016-12-02T19:35:27.494627",
     "start_time": "2016-12-02T19:35:27.486620"
    },
    "nbpresent": {
     "id": "336ac401-dd02-42c1-8a65-443e575814cd"
    },
    "run_control": {
     "frozen": false,
     "read_only": false
    }
   },
   "outputs": [],
   "source": [
    "np.zeros((2, 3))"
   ]
  },
  {
   "cell_type": "code",
   "execution_count": null,
   "metadata": {
    "ExecuteTime": {
     "end_time": "2016-12-02T19:35:27.505635",
     "start_time": "2016-12-02T19:35:27.496629"
    },
    "nbpresent": {
     "id": "d4b7e3df-bb98-4fda-aaea-8caa45be37dd"
    },
    "run_control": {
     "frozen": false,
     "read_only": false
    }
   },
   "outputs": [],
   "source": [
    "np.zeros((2, 3, 2))"
   ]
  },
  {
   "cell_type": "markdown",
   "metadata": {
    "ExecuteTime": {
     "end_time": "2016-12-02T01:43:02.516593",
     "start_time": "2016-12-02T01:43:02.513591"
    },
    "nbpresent": {
     "id": "93795666-078c-488f-b9a2-76f82682aec3"
    }
   },
   "source": [
    "## ones - tablice jedynek"
   ]
  },
  {
   "cell_type": "code",
   "execution_count": null,
   "metadata": {
    "ExecuteTime": {
     "end_time": "2016-12-02T19:35:27.517643",
     "start_time": "2016-12-02T19:35:27.507637"
    },
    "nbpresent": {
     "id": "86549b05-bc8f-4e3e-9f73-d35f7286d0d2"
    },
    "run_control": {
     "frozen": false,
     "read_only": false
    }
   },
   "outputs": [],
   "source": [
    "np.ones(5)"
   ]
  },
  {
   "cell_type": "code",
   "execution_count": null,
   "metadata": {
    "ExecuteTime": {
     "end_time": "2016-12-02T19:35:27.537658",
     "start_time": "2016-12-02T19:35:27.520645"
    },
    "nbpresent": {
     "id": "56a6c1f3-2b00-4b52-ba3a-30a97ee7cc46"
    },
    "run_control": {
     "frozen": false,
     "read_only": false
    }
   },
   "outputs": [],
   "source": [
    "np.ones((2, 3))"
   ]
  },
  {
   "cell_type": "code",
   "execution_count": null,
   "metadata": {
    "ExecuteTime": {
     "end_time": "2016-12-02T19:35:27.548675",
     "start_time": "2016-12-02T19:35:27.539658"
    },
    "nbpresent": {
     "id": "73121ca1-9b45-4d3f-b967-34f14087c267"
    },
    "run_control": {
     "frozen": false,
     "read_only": false
    }
   },
   "outputs": [],
   "source": [
    "np.ones((2, 3, 2))"
   ]
  },
  {
   "cell_type": "markdown",
   "metadata": {
    "nbpresent": {
     "id": "0e51fcf7-a7e1-47d4-bf20-6844c494335d"
    }
   },
   "source": [
    "## arange and reshape -  zmiana wymiarów"
   ]
  },
  {
   "cell_type": "markdown",
   "metadata": {
    "nbpresent": {
     "id": "0dd292b4-8fc5-4d1a-bee7-2637cc7e8326"
    }
   },
   "source": [
    "https://docs.scipy.org/doc/numpy/reference/generated/numpy.reshape.html"
   ]
  },
  {
   "cell_type": "code",
   "execution_count": null,
   "metadata": {
    "ExecuteTime": {
     "end_time": "2016-12-02T19:35:27.562675",
     "start_time": "2016-12-02T19:35:27.550667"
    },
    "nbpresent": {
     "id": "2b6ce539-2421-44f4-945b-1a324232b9d5"
    },
    "run_control": {
     "frozen": false,
     "read_only": false
    }
   },
   "outputs": [],
   "source": [
    "np.arange(5)"
   ]
  },
  {
   "cell_type": "code",
   "execution_count": null,
   "metadata": {
    "ExecuteTime": {
     "end_time": "2016-12-02T19:35:27.581688",
     "start_time": "2016-12-02T19:35:27.566677"
    },
    "nbpresent": {
     "id": "ce2710a4-0322-49e7-81f6-f7503ab9831e"
    },
    "run_control": {
     "frozen": false,
     "read_only": false
    }
   },
   "outputs": [],
   "source": [
    "np.array(range(5))"
   ]
  },
  {
   "cell_type": "code",
   "execution_count": null,
   "metadata": {
    "ExecuteTime": {
     "end_time": "2016-12-02T19:35:27.591696",
     "start_time": "2016-12-02T19:35:27.582690"
    },
    "nbpresent": {
     "id": "dad572c2-3de9-4ddb-a450-afddd3206cd4"
    },
    "run_control": {
     "frozen": false,
     "read_only": false
    }
   },
   "outputs": [],
   "source": [
    "np.arange(1,5)"
   ]
  },
  {
   "cell_type": "code",
   "execution_count": null,
   "metadata": {
    "ExecuteTime": {
     "end_time": "2016-12-02T19:35:27.600704",
     "start_time": "2016-12-02T19:35:27.593698"
    },
    "nbpresent": {
     "id": "6f159fbb-dc0d-48ea-a0e4-bac2dab7bed7"
    },
    "run_control": {
     "frozen": false,
     "read_only": false
    }
   },
   "outputs": [],
   "source": [
    "np.arange(0, 100, 25)"
   ]
  },
  {
   "cell_type": "code",
   "execution_count": null,
   "metadata": {
    "ExecuteTime": {
     "end_time": "2016-12-02T19:54:35.188812",
     "start_time": "2016-12-02T19:54:35.182809"
    }
   },
   "outputs": [],
   "source": [
    "np.arange(0, 5, .25)"
   ]
  },
  {
   "cell_type": "code",
   "execution_count": null,
   "metadata": {
    "ExecuteTime": {
     "end_time": "2016-12-02T19:35:27.610710",
     "start_time": "2016-12-02T19:35:27.602704"
    },
    "nbpresent": {
     "id": "8fa26ab8-50a4-4637-a896-338179c6fc7e"
    },
    "run_control": {
     "frozen": false,
     "read_only": false
    }
   },
   "outputs": [],
   "source": [
    "a.reshape(6)"
   ]
  },
  {
   "cell_type": "code",
   "execution_count": null,
   "metadata": {
    "ExecuteTime": {
     "end_time": "2016-12-02T19:35:27.623720",
     "start_time": "2016-12-02T19:35:27.612711"
    },
    "nbpresent": {
     "id": "616ca266-63aa-401a-98db-68bf154dc28c"
    },
    "run_control": {
     "frozen": false,
     "read_only": false
    }
   },
   "outputs": [],
   "source": [
    "np.arange(20).reshape(4, 5)"
   ]
  },
  {
   "cell_type": "code",
   "execution_count": null,
   "metadata": {
    "ExecuteTime": {
     "end_time": "2016-12-03T13:24:31.750689",
     "start_time": "2016-12-03T13:24:31.745687"
    },
    "nbpresent": {
     "id": "46c166d4-2931-42af-8d3b-e4f4677fd3e5"
    },
    "run_control": {
     "frozen": false,
     "read_only": false
    }
   },
   "outputs": [],
   "source": [
    "np.arange(5).reshape(1,5) # play with it"
   ]
  },
  {
   "cell_type": "markdown",
   "metadata": {
    "nbpresent": {
     "id": "b060aaed-964f-438f-9e54-0b0a6c55272f"
    }
   },
   "source": [
    "One shape dimension can be -1. In this case, the value is inferred from the length of the array and remaining dimensions."
   ]
  },
  {
   "cell_type": "code",
   "execution_count": null,
   "metadata": {
    "ExecuteTime": {
     "end_time": "2016-12-02T19:35:27.649736",
     "start_time": "2016-12-02T19:35:27.636729"
    },
    "nbpresent": {
     "id": "98d2b98d-988e-4fb8-a4ed-ea7c20dcac98"
    },
    "run_control": {
     "frozen": false,
     "read_only": false
    }
   },
   "outputs": [],
   "source": [
    "np.arange(5).reshape(-1,1)"
   ]
  },
  {
   "cell_type": "code",
   "execution_count": null,
   "metadata": {
    "ExecuteTime": {
     "end_time": "2016-12-03T13:24:44.887803",
     "start_time": "2016-12-03T13:24:44.881801"
    }
   },
   "outputs": [],
   "source": [
    "a = np.arange(20).reshape(4, 5)\n",
    "a"
   ]
  },
  {
   "cell_type": "code",
   "execution_count": null,
   "metadata": {
    "ExecuteTime": {
     "end_time": "2016-12-03T13:24:46.639635",
     "start_time": "2016-12-03T13:24:46.633630"
    }
   },
   "outputs": [],
   "source": [
    "a.T"
   ]
  },
  {
   "cell_type": "markdown",
   "metadata": {
    "ExecuteTime": {
     "end_time": "2016-12-02T20:36:35.967741",
     "start_time": "2016-12-02T20:36:35.963753"
    }
   },
   "source": [
    "## linspace"
   ]
  },
  {
   "cell_type": "markdown",
   "metadata": {},
   "source": [
    "Zwraca równo rozmieszczone liczby w określonym przedziale.\n",
    "Przydatny w wykresach."
   ]
  },
  {
   "cell_type": "code",
   "execution_count": null,
   "metadata": {
    "ExecuteTime": {
     "end_time": "2016-12-02T20:37:51.184588",
     "start_time": "2016-12-02T20:37:51.178584"
    }
   },
   "outputs": [],
   "source": [
    "np.linspace(0, 2, 9)"
   ]
  },
  {
   "cell_type": "code",
   "execution_count": null,
   "metadata": {
    "ExecuteTime": {
     "end_time": "2016-12-02T20:37:55.912637",
     "start_time": "2016-12-02T20:37:55.905632"
    }
   },
   "outputs": [],
   "source": [
    "np.linspace(0, 2*np.pi, 100)"
   ]
  },
  {
   "cell_type": "markdown",
   "metadata": {
    "nbpresent": {
     "id": "5eb4e24b-801d-4993-b59b-576548515fdc"
    }
   },
   "source": [
    "## ndarray  \n",
    "https://docs.scipy.org/doc/numpy-1.11.0/reference/arrays.ndarray.html"
   ]
  },
  {
   "cell_type": "markdown",
   "metadata": {
    "ExecuteTime": {
     "end_time": "2016-12-02T01:43:30.004639",
     "start_time": "2016-12-02T01:43:30.001625"
    },
    "nbpresent": {
     "id": "e7eafa24-b0a7-4771-a3a5-1c97abdd1af9"
    }
   },
   "source": [
    "### shape"
   ]
  },
  {
   "cell_type": "markdown",
   "metadata": {
    "nbpresent": {
     "id": "f0481a64-70c5-47f2-b551-b28c0cb9b48e"
    }
   },
   "source": [
    "Wymiary tablicy. Jest to krotka liczb wskazująca na rozmiar tablicy w każdym wymiarze.\n",
    "Dla macierzy z n wierszami i m kolumnami będzie to kształt (n, m).\n",
    "Długość krotki kształtu jest zatem rangą lub liczbą wymiarów, ndim."
   ]
  },
  {
   "cell_type": "code",
   "execution_count": null,
   "metadata": {
    "ExecuteTime": {
     "end_time": "2016-12-02T19:35:27.658743",
     "start_time": "2016-12-02T19:35:27.651738"
    },
    "nbpresent": {
     "id": "99c6e161-8d84-47fb-9462-7950f116138a"
    },
    "run_control": {
     "frozen": false,
     "read_only": false
    }
   },
   "outputs": [],
   "source": [
    "a.shape"
   ]
  },
  {
   "cell_type": "code",
   "execution_count": null,
   "metadata": {
    "ExecuteTime": {
     "end_time": "2016-12-02T19:35:27.673755",
     "start_time": "2016-12-02T19:35:27.660744"
    },
    "nbpresent": {
     "id": "18eae773-52c3-42e5-b145-7c3ecf0ee46f"
    },
    "run_control": {
     "frozen": false,
     "read_only": false
    }
   },
   "outputs": [],
   "source": [
    "np.ones((2,5,2)).shape"
   ]
  },
  {
   "cell_type": "code",
   "execution_count": null,
   "metadata": {
    "ExecuteTime": {
     "end_time": "2016-12-02T19:35:27.684761",
     "start_time": "2016-12-02T19:35:27.675755"
    },
    "nbpresent": {
     "id": "edbbbcd6-f5cd-428f-aed6-02e9140a052d"
    },
    "run_control": {
     "frozen": false,
     "read_only": false
    }
   },
   "outputs": [],
   "source": [
    "np.ones(5).shape"
   ]
  },
  {
   "cell_type": "code",
   "execution_count": null,
   "metadata": {
    "ExecuteTime": {
     "end_time": "2016-12-02T19:35:27.699774",
     "start_time": "2016-12-02T19:35:27.688764"
    },
    "nbpresent": {
     "id": "d3a8fe2b-1dfc-40cc-9071-491c1b63c6e1"
    },
    "run_control": {
     "frozen": false,
     "read_only": false
    }
   },
   "outputs": [],
   "source": [
    "np.ones(5).shape[0]"
   ]
  },
  {
   "cell_type": "markdown",
   "metadata": {
    "ExecuteTime": {
     "end_time": "2016-12-02T02:08:10.816433",
     "start_time": "2016-12-02T02:08:10.811429"
    },
    "nbpresent": {
     "id": "cbffeb9f-2b28-45a4-a3bb-fcb872cddc5d"
    }
   },
   "source": [
    "Funkcja **len** z pythona zwraca rozmiar pierwszego wymiaru"
   ]
  },
  {
   "cell_type": "code",
   "execution_count": null,
   "metadata": {
    "ExecuteTime": {
     "end_time": "2016-12-02T19:35:27.831866",
     "start_time": "2016-12-02T19:35:27.822861"
    },
    "nbpresent": {
     "id": "381c7fc9-7020-4e5c-a2e8-2222bbf50c1e"
    },
    "run_control": {
     "frozen": false,
     "read_only": false
    }
   },
   "outputs": [],
   "source": [
    "a.shape[0]"
   ]
  },
  {
   "cell_type": "code",
   "execution_count": null,
   "metadata": {
    "ExecuteTime": {
     "end_time": "2016-12-02T19:35:27.850880",
     "start_time": "2016-12-02T19:35:27.833868"
    },
    "nbpresent": {
     "id": "e9ccfcf7-181e-41c9-86b2-8dd8672ae3a3"
    },
    "run_control": {
     "frozen": false,
     "read_only": false
    }
   },
   "outputs": [],
   "source": [
    "len(a)"
   ]
  },
  {
   "cell_type": "markdown",
   "metadata": {
    "ExecuteTime": {
     "end_time": "2016-12-02T01:43:43.420935",
     "start_time": "2016-12-02T01:43:43.417932"
    },
    "nbpresent": {
     "id": "d1ee644f-014c-4e01-ac66-cdef6c3b2022"
    }
   },
   "source": [
    "### ndim"
   ]
  },
  {
   "cell_type": "markdown",
   "metadata": {
    "nbpresent": {
     "id": "e58cbea8-c0af-442d-8ef9-f69540f14a53"
    }
   },
   "source": [
    "Liczba osi - czyli liczba wymiarów tablicy.\n",
    "\n"
   ]
  },
  {
   "cell_type": "code",
   "execution_count": null,
   "metadata": {
    "ExecuteTime": {
     "end_time": "2016-12-02T19:35:27.711797",
     "start_time": "2016-12-02T19:35:27.701774"
    },
    "nbpresent": {
     "id": "1c936909-29d4-4fc2-a606-b1e79ab9ea65"
    },
    "run_control": {
     "frozen": false,
     "read_only": false
    }
   },
   "outputs": [],
   "source": [
    "a"
   ]
  },
  {
   "cell_type": "code",
   "execution_count": null,
   "metadata": {
    "ExecuteTime": {
     "end_time": "2016-12-02T19:35:27.719790",
     "start_time": "2016-12-02T19:35:27.713782"
    },
    "nbpresent": {
     "id": "60cab8e5-352a-40cd-8b3f-ed5ae585f778"
    },
    "run_control": {
     "frozen": false,
     "read_only": false
    }
   },
   "outputs": [],
   "source": [
    "a.ndim"
   ]
  },
  {
   "cell_type": "code",
   "execution_count": null,
   "metadata": {
    "ExecuteTime": {
     "end_time": "2016-12-02T19:35:27.729793",
     "start_time": "2016-12-02T19:35:27.722789"
    },
    "nbpresent": {
     "id": "3fb53675-b399-41ed-90c1-a061fe11c1a5"
    },
    "run_control": {
     "frozen": false,
     "read_only": false
    }
   },
   "outputs": [],
   "source": [
    "dim1 = np.zeros((2))\n",
    "dim1"
   ]
  },
  {
   "cell_type": "code",
   "execution_count": null,
   "metadata": {
    "ExecuteTime": {
     "end_time": "2016-12-02T19:35:27.738814",
     "start_time": "2016-12-02T19:35:27.731795"
    },
    "nbpresent": {
     "id": "bf6c363e-8b3c-478d-b0ad-5f4b2c22f2c9"
    },
    "run_control": {
     "frozen": false,
     "read_only": false
    }
   },
   "outputs": [],
   "source": [
    "dim1.ndim"
   ]
  },
  {
   "cell_type": "code",
   "execution_count": null,
   "metadata": {
    "ExecuteTime": {
     "end_time": "2016-12-02T19:35:27.749807",
     "start_time": "2016-12-02T19:35:27.740804"
    },
    "nbpresent": {
     "id": "50a87dd1-02d7-4894-adb9-d18bd299c34f"
    },
    "run_control": {
     "frozen": false,
     "read_only": false
    }
   },
   "outputs": [],
   "source": [
    "dim2 = np.zeros((2,2))\n",
    "dim2"
   ]
  },
  {
   "cell_type": "code",
   "execution_count": null,
   "metadata": {
    "ExecuteTime": {
     "end_time": "2016-12-02T19:35:27.758829",
     "start_time": "2016-12-02T19:35:27.752810"
    },
    "nbpresent": {
     "id": "67d6b69f-5e19-4a51-b8ce-5ec6931f4de2"
    },
    "run_control": {
     "frozen": false,
     "read_only": false
    }
   },
   "outputs": [],
   "source": [
    "dim2.ndim"
   ]
  },
  {
   "cell_type": "code",
   "execution_count": null,
   "metadata": {
    "ExecuteTime": {
     "end_time": "2016-12-02T19:35:27.768825",
     "start_time": "2016-12-02T19:35:27.760830"
    },
    "nbpresent": {
     "id": "8bdc2d37-8b49-49e8-a9d5-23ac9b01a342"
    },
    "run_control": {
     "frozen": false,
     "read_only": false
    }
   },
   "outputs": [],
   "source": [
    "dim3 = np.zeros((2,2,2))\n",
    "dim3"
   ]
  },
  {
   "cell_type": "code",
   "execution_count": null,
   "metadata": {
    "ExecuteTime": {
     "end_time": "2016-12-02T19:35:27.778831",
     "start_time": "2016-12-02T19:35:27.770823"
    },
    "nbpresent": {
     "id": "a964811a-0fe6-497a-be3f-5bdc0b30c050"
    },
    "run_control": {
     "frozen": false,
     "read_only": false
    }
   },
   "outputs": [],
   "source": [
    "dim3.ndim"
   ]
  },
  {
   "cell_type": "markdown",
   "metadata": {
    "ExecuteTime": {
     "end_time": "2016-12-02T01:44:38.564260",
     "start_time": "2016-12-02T01:44:38.561250"
    },
    "nbpresent": {
     "id": "98aebc1c-65b8-496e-968a-35247a4f609f"
    }
   },
   "source": [
    "### size - rozmiar"
   ]
  },
  {
   "cell_type": "markdown",
   "metadata": {
    "nbpresent": {
     "id": "649fcefc-5347-4c96-8981-85eef16d49fa"
    }
   },
   "source": [
    "Całkowity liczba elementów w tablicy. To jest to samo co iloczyn elmentów kształtu (shape)"
   ]
  },
  {
   "cell_type": "code",
   "execution_count": null,
   "metadata": {
    "ExecuteTime": {
     "end_time": "2016-12-02T19:35:27.787835",
     "start_time": "2016-12-02T19:35:27.780830"
    },
    "nbpresent": {
     "id": "38277515-e802-4ef2-998f-50380257b2eb"
    },
    "run_control": {
     "frozen": false,
     "read_only": false
    }
   },
   "outputs": [],
   "source": [
    "a.size"
   ]
  },
  {
   "cell_type": "code",
   "execution_count": null,
   "metadata": {
    "ExecuteTime": {
     "end_time": "2016-12-02T19:35:27.808863",
     "start_time": "2016-12-02T19:35:27.789838"
    },
    "nbpresent": {
     "id": "b85b8c03-f234-4559-8f80-b0fca0eacf35"
    },
    "run_control": {
     "frozen": false,
     "read_only": false
    }
   },
   "outputs": [],
   "source": [
    "a.size == a.shape[0] * a.shape[1]"
   ]
  },
  {
   "cell_type": "code",
   "execution_count": null,
   "metadata": {
    "ExecuteTime": {
     "end_time": "2016-12-02T19:35:27.819858",
     "start_time": "2016-12-02T19:35:27.810866"
    },
    "nbpresent": {
     "id": "ceb9282b-e75e-40f8-9242-aa3e5df9f5ed"
    },
    "run_control": {
     "frozen": false,
     "read_only": false
    }
   },
   "outputs": [],
   "source": [
    "x = np.zeros((3, 5, 2))\n",
    "x.size"
   ]
  },
  {
   "cell_type": "markdown",
   "metadata": {
    "ExecuteTime": {
     "end_time": "2016-12-02T01:53:02.070316",
     "start_time": "2016-12-02T01:53:02.066298"
    },
    "nbpresent": {
     "id": "d2f56b56-2ad8-4b1e-b433-7370bc99c5bd"
    }
   },
   "source": [
    "### dtype & astype  - sprawdzenie i ustawianie typu"
   ]
  },
  {
   "cell_type": "markdown",
   "metadata": {},
   "source": [
    "Available dtypes:\n",
    "<table>\n",
    "<tr><th>type</th><th>description</th></tr>\n",
    "<tr><td>**bool**</td><td>Boolean (True or False) stored as a byte</td></tr>\n",
    "<tr><td>**int**</td><td>Default integer type (same as C long; normally either int64 or int32)</td></tr>\n",
    "<tr><td>**intc**</td><td>Identical to C int (normally int32 or int64)</td></tr>\n",
    "<tr><td>**intp**</td><td>Integer used for indexing (same as C ssize_t; normally either int32 or int64)</td></tr>\n",
    "<tr><td>**int8**</td><td>Byte (-128 to 127)</td></tr>\n",
    "<tr><td>**int16**</td><td>Integer (-32768 to 32767)</td></tr>\n",
    "<tr><td>**int32**</td><td>Integer (-2147483648 to 2147483647)</td></tr>\n",
    "<tr><td>**int64**</td><td>Integer (-9223372036854775808 to 9223372036854775807)</td></tr>\n",
    "<tr><td>**uint8**</td><td>Unsigned integer (0 to 255)</td></tr>\n",
    "<tr><td>**uint16**</td><td>Unsigned integer (0 to 65535)</td></tr>\n",
    "<tr><td>**uint32**</td><td>Unsigned integer (0 to 4294967295)</td></tr>\n",
    "<tr><td>**uint64**</td><td>Unsigned integer (0 to 18446744073709551615)</td></tr>\n",
    "<tr><td>**float**</td><td>Shorthand for float64.</td></tr>\n",
    "<tr><td>**float16**</td><td>Half precision float: sign bit, 5 bits exponent, 10 bits mantissa</td></tr>\n",
    "<tr><td>**float32**</td><td>Single precision float: sign bit, 8 bits exponent, 23 bits mantissa</td></tr>\n",
    "<tr><td>**float64**</td><td>Double precision float: sign bit, 11 bits exponent, 52 bits mantissa</td></tr>\n",
    "<tr><td>**complex**</td><td>Shorthand for complex128.</td></tr>\n",
    "<tr><td>**complex64**</td><td>Complex number, represented by two 32-bit floats (real and imaginary components)</td></tr>\n",
    "<tr><td>**complex128**</td><td>Complex number, represented by two 64-bit floats (real and imaginary components)</td></tr>\n",
    "</table>"
   ]
  },
  {
   "cell_type": "code",
   "execution_count": null,
   "metadata": {
    "ExecuteTime": {
     "end_time": "2016-12-02T19:35:27.858901",
     "start_time": "2016-12-02T19:35:27.852881"
    },
    "run_control": {
     "frozen": false,
     "read_only": false
    }
   },
   "outputs": [],
   "source": [
    "a.dtype"
   ]
  },
  {
   "cell_type": "code",
   "execution_count": null,
   "metadata": {
    "ExecuteTime": {
     "end_time": "2016-12-02T19:35:27.867895",
     "start_time": "2016-12-02T19:35:27.860887"
    },
    "run_control": {
     "frozen": false,
     "read_only": false
    }
   },
   "outputs": [],
   "source": [
    "b = np.array([1.5, 2.5])\n",
    "b.dtype"
   ]
  },
  {
   "cell_type": "code",
   "execution_count": null,
   "metadata": {
    "ExecuteTime": {
     "end_time": "2016-12-02T19:35:27.877901",
     "start_time": "2016-12-02T19:35:27.869894"
    },
    "run_control": {
     "frozen": false,
     "read_only": false
    }
   },
   "outputs": [],
   "source": [
    "c = np.array([True, False])\n",
    "c.dtype"
   ]
  },
  {
   "cell_type": "code",
   "execution_count": null,
   "metadata": {
    "ExecuteTime": {
     "end_time": "2016-12-02T19:37:01.916932",
     "start_time": "2016-12-02T19:37:01.911931"
    }
   },
   "outputs": [],
   "source": [
    "np.array([1, 2, 3, 4, 4.5]).dtype"
   ]
  },
  {
   "cell_type": "code",
   "execution_count": null,
   "metadata": {
    "ExecuteTime": {
     "end_time": "2016-12-02T19:35:27.885920",
     "start_time": "2016-12-02T19:35:27.879903"
    },
    "run_control": {
     "frozen": false,
     "read_only": false
    }
   },
   "outputs": [],
   "source": [
    "np.array([1,2,3], dtype='float').dtype"
   ]
  },
  {
   "cell_type": "code",
   "execution_count": null,
   "metadata": {
    "ExecuteTime": {
     "end_time": "2016-12-02T19:35:27.896912",
     "start_time": "2016-12-02T19:35:27.887907"
    },
    "run_control": {
     "frozen": false,
     "read_only": false
    }
   },
   "outputs": [],
   "source": [
    "np.array([1,0,1,0], dtype=np.bool)"
   ]
  },
  {
   "cell_type": "code",
   "execution_count": null,
   "metadata": {
    "ExecuteTime": {
     "end_time": "2016-12-02T19:35:27.913942",
     "start_time": "2016-12-02T19:35:27.898913"
    },
    "run_control": {
     "frozen": false,
     "read_only": false
    }
   },
   "outputs": [],
   "source": [
    "a.astype(np.float)"
   ]
  },
  {
   "cell_type": "code",
   "execution_count": null,
   "metadata": {
    "ExecuteTime": {
     "end_time": "2016-12-02T19:35:27.925933",
     "start_time": "2016-12-02T19:35:27.915943"
    },
    "run_control": {
     "frozen": false,
     "read_only": false
    }
   },
   "outputs": [],
   "source": [
    "a.astype(np.bool)"
   ]
  },
  {
   "cell_type": "code",
   "execution_count": null,
   "metadata": {
    "ExecuteTime": {
     "end_time": "2016-12-02T19:35:27.936941",
     "start_time": "2016-12-02T19:35:27.928935"
    },
    "run_control": {
     "frozen": false,
     "read_only": false
    }
   },
   "outputs": [],
   "source": [
    "d = np.array([500, 10000])\n",
    "d"
   ]
  },
  {
   "cell_type": "code",
   "execution_count": null,
   "metadata": {
    "ExecuteTime": {
     "end_time": "2016-12-02T19:35:27.947948",
     "start_time": "2016-12-02T19:35:27.938942"
    },
    "run_control": {
     "frozen": false,
     "read_only": false
    }
   },
   "outputs": [],
   "source": [
    "d.dtype"
   ]
  },
  {
   "cell_type": "code",
   "execution_count": null,
   "metadata": {
    "ExecuteTime": {
     "end_time": "2016-12-02T19:35:27.957956",
     "start_time": "2016-12-02T19:35:27.949950"
    },
    "run_control": {
     "frozen": false,
     "read_only": false
    }
   },
   "outputs": [],
   "source": [
    "d.astype(np.int8)"
   ]
  },
  {
   "cell_type": "code",
   "execution_count": null,
   "metadata": {
    "ExecuteTime": {
     "end_time": "2016-12-02T19:35:27.966963",
     "start_time": "2016-12-02T19:35:27.959957"
    },
    "run_control": {
     "frozen": false,
     "read_only": false
    }
   },
   "outputs": [],
   "source": [
    "d.max()"
   ]
  },
  {
   "cell_type": "code",
   "execution_count": null,
   "metadata": {
    "ExecuteTime": {
     "end_time": "2016-12-02T19:35:27.977970",
     "start_time": "2016-12-02T19:35:27.968963"
    },
    "run_control": {
     "frozen": false,
     "read_only": false
    }
   },
   "outputs": [],
   "source": [
    "np.iinfo(np.int8)  # Machine limits for integer types."
   ]
  },
  {
   "cell_type": "code",
   "execution_count": null,
   "metadata": {},
   "outputs": [],
   "source": [
    "# np.iinfo?"
   ]
  },
  {
   "cell_type": "code",
   "execution_count": null,
   "metadata": {
    "ExecuteTime": {
     "end_time": "2016-12-02T19:35:27.986978",
     "start_time": "2016-12-02T19:35:27.979973"
    },
    "run_control": {
     "frozen": false,
     "read_only": false
    }
   },
   "outputs": [],
   "source": [
    "d.max() <= np.iinfo(np.int8).max"
   ]
  },
  {
   "cell_type": "code",
   "execution_count": null,
   "metadata": {
    "ExecuteTime": {
     "end_time": "2016-12-02T19:35:28.001987",
     "start_time": "2016-12-02T19:35:27.988978"
    },
    "run_control": {
     "frozen": false,
     "read_only": false
    }
   },
   "outputs": [],
   "source": [
    "if d.max() <= np.iinfo(np.int8).max:\n",
    "    d = d.astype(np.int8)\n",
    "else:\n",
    "    print(\"Could not change type of 'd' to int8.\\nMax value is bigger than maximum value of type int8\")"
   ]
  },
  {
   "cell_type": "code",
   "execution_count": null,
   "metadata": {
    "ExecuteTime": {
     "end_time": "2016-12-02T19:35:28.017000",
     "start_time": "2016-12-02T19:35:28.002988"
    },
    "run_control": {
     "frozen": false,
     "read_only": false
    }
   },
   "outputs": [],
   "source": [
    "np.finfo(np.float32)  # Machine limits for floating point types."
   ]
  },
  {
   "cell_type": "code",
   "execution_count": null,
   "metadata": {},
   "outputs": [],
   "source": [
    "np.finfo?"
   ]
  },
  {
   "cell_type": "markdown",
   "metadata": {
    "ExecuteTime": {
     "end_time": "2016-12-02T01:45:14.788858",
     "start_time": "2016-12-02T01:45:14.785869"
    },
    "nbpresent": {
     "id": "a0029d79-f532-4175-a1ae-ee0b6d03425d"
    }
   },
   "source": [
    "### itemsize"
   ]
  },
  {
   "cell_type": "markdown",
   "metadata": {
    "ExecuteTime": {
     "end_time": "2016-12-02T19:34:57.757190",
     "start_time": "2016-12-02T19:34:57.752174"
    }
   },
   "source": [
    "Rozmiar w bajtach każdego elementu tablicy.\n",
    "Na przykład tablica elementów typu float64 ma itemsize 8 (= 64/8), podczas gdy jeden z typów complex32 ma itemize 4 (= 32/8).\n",
    "Jest to równoważne ndarray.dtype.itemsize."
   ]
  },
  {
   "cell_type": "code",
   "execution_count": null,
   "metadata": {
    "ExecuteTime": {
     "end_time": "2016-12-02T19:35:28.076054",
     "start_time": "2016-12-02T19:35:28.069035"
    }
   },
   "outputs": [],
   "source": [
    "a.dtype"
   ]
  },
  {
   "cell_type": "code",
   "execution_count": null,
   "metadata": {
    "ExecuteTime": {
     "end_time": "2016-12-02T19:35:33.801662",
     "start_time": "2016-12-02T19:35:33.797647"
    },
    "run_control": {
     "frozen": false,
     "read_only": false
    }
   },
   "outputs": [],
   "source": [
    "a.itemsize"
   ]
  },
  {
   "cell_type": "markdown",
   "metadata": {
    "ExecuteTime": {
     "end_time": "2016-12-02T19:37:40.298804",
     "start_time": "2016-12-02T19:37:40.295793"
    }
   },
   "source": [
    "# printowanie tablic - print"
   ]
  },
  {
   "cell_type": "code",
   "execution_count": null,
   "metadata": {
    "ExecuteTime": {
     "end_time": "2016-12-02T19:37:49.972102",
     "start_time": "2016-12-02T19:37:49.967098"
    }
   },
   "outputs": [],
   "source": [
    "print(a)"
   ]
  },
  {
   "cell_type": "code",
   "execution_count": null,
   "metadata": {
    "ExecuteTime": {
     "end_time": "2016-12-02T19:38:03.891828",
     "start_time": "2016-12-02T19:38:03.886824"
    }
   },
   "outputs": [],
   "source": [
    "print(np.arange(10000).reshape(100,100))"
   ]
  },
  {
   "cell_type": "code",
   "execution_count": null,
   "metadata": {
    "ExecuteTime": {
     "end_time": "2016-12-02T19:38:29.410846",
     "start_time": "2016-12-02T19:38:29.407829"
    }
   },
   "outputs": [],
   "source": [
    "# \n",
    "np.set_printoptions(threshold=10000)"
   ]
  },
  {
   "cell_type": "code",
   "execution_count": null,
   "metadata": {},
   "outputs": [],
   "source": [
    "np.set_printoptions?"
   ]
  },
  {
   "cell_type": "code",
   "execution_count": null,
   "metadata": {
    "ExecuteTime": {
     "end_time": "2016-12-02T19:38:29.791160",
     "start_time": "2016-12-02T19:38:29.721097"
    }
   },
   "outputs": [],
   "source": [
    "print(np.arange(10000).reshape(100,100))"
   ]
  },
  {
   "cell_type": "code",
   "execution_count": null,
   "metadata": {
    "ExecuteTime": {
     "end_time": "2016-12-02T19:38:59.859307",
     "start_time": "2016-12-02T19:38:59.855301"
    }
   },
   "outputs": [],
   "source": [
    "np.set_printoptions(threshold=1000)"
   ]
  },
  {
   "cell_type": "markdown",
   "metadata": {
    "ExecuteTime": {
     "end_time": "2016-12-02T20:40:26.375084",
     "start_time": "2016-12-02T20:40:26.372081"
    }
   },
   "source": [
    "# Podstawowe operacje"
   ]
  },
  {
   "cell_type": "code",
   "execution_count": null,
   "metadata": {
    "ExecuteTime": {
     "end_time": "2016-12-02T20:41:33.862866",
     "start_time": "2016-12-02T20:41:33.857845"
    }
   },
   "outputs": [],
   "source": [
    "a = np.array([20,30,40,50])\n",
    "a"
   ]
  },
  {
   "cell_type": "code",
   "execution_count": null,
   "metadata": {
    "ExecuteTime": {
     "end_time": "2016-12-02T20:41:26.605770",
     "start_time": "2016-12-02T20:41:26.601771"
    }
   },
   "outputs": [],
   "source": [
    "b = np.arange(4)\n",
    "b"
   ]
  },
  {
   "cell_type": "code",
   "execution_count": null,
   "metadata": {
    "ExecuteTime": {
     "end_time": "2016-12-02T20:40:56.383564",
     "start_time": "2016-12-02T20:40:56.378574"
    }
   },
   "outputs": [],
   "source": [
    "c = a - b\n",
    "c"
   ]
  },
  {
   "cell_type": "code",
   "execution_count": null,
   "metadata": {
    "ExecuteTime": {
     "end_time": "2016-12-02T20:41:20.176153",
     "start_time": "2016-12-02T20:41:20.171149"
    }
   },
   "outputs": [],
   "source": [
    "b**2"
   ]
  },
  {
   "cell_type": "code",
   "execution_count": null,
   "metadata": {
    "ExecuteTime": {
     "end_time": "2016-12-02T20:41:52.622273",
     "start_time": "2016-12-02T20:41:52.617256"
    }
   },
   "outputs": [],
   "source": [
    "np.sin(a)"
   ]
  },
  {
   "cell_type": "code",
   "execution_count": null,
   "metadata": {
    "ExecuteTime": {
     "end_time": "2016-12-02T20:42:05.686030",
     "start_time": "2016-12-02T20:42:05.681027"
    }
   },
   "outputs": [],
   "source": [
    "a < 35"
   ]
  },
  {
   "cell_type": "markdown",
   "metadata": {},
   "source": [
    "Operator mnożenia **`*`** mnoży przez siebie elementy na odpowiadających sobie pozycjach\n",
    "Iloczy wektorów realizujemy poprzez metodę `A.dot(B)`"
   ]
  },
  {
   "cell_type": "code",
   "execution_count": null,
   "metadata": {
    "ExecuteTime": {
     "end_time": "2016-12-02T20:44:13.837290",
     "start_time": "2016-12-02T20:44:13.834284"
    }
   },
   "outputs": [],
   "source": [
    "A = np.array([[1,1],\n",
    "              [0,1]])\n",
    "B = np.array([[2,0],\n",
    "              [3,4]])"
   ]
  },
  {
   "cell_type": "code",
   "execution_count": null,
   "metadata": {
    "ExecuteTime": {
     "end_time": "2016-12-02T20:44:15.696264",
     "start_time": "2016-12-02T20:44:15.691252"
    }
   },
   "outputs": [],
   "source": [
    "A*B"
   ]
  },
  {
   "cell_type": "code",
   "execution_count": null,
   "metadata": {
    "ExecuteTime": {
     "end_time": "2016-12-02T20:44:22.112168",
     "start_time": "2016-12-02T20:44:22.107170"
    }
   },
   "outputs": [],
   "source": [
    "A.dot(B)"
   ]
  },
  {
   "cell_type": "code",
   "execution_count": null,
   "metadata": {
    "ExecuteTime": {
     "end_time": "2016-12-02T20:44:28.480241",
     "start_time": "2016-12-02T20:44:28.475238"
    }
   },
   "outputs": [],
   "source": [
    "np.dot(A, B)"
   ]
  },
  {
   "cell_type": "code",
   "execution_count": null,
   "metadata": {
    "ExecuteTime": {
     "end_time": "2016-12-03T12:50:09.478709",
     "start_time": "2016-12-03T12:50:09.472708"
    }
   },
   "outputs": [],
   "source": [
    "A.sum()"
   ]
  },
  {
   "cell_type": "code",
   "execution_count": null,
   "metadata": {
    "ExecuteTime": {
     "end_time": "2016-12-03T12:50:16.820198",
     "start_time": "2016-12-03T12:50:16.815195"
    }
   },
   "outputs": [],
   "source": [
    "B.max()"
   ]
  },
  {
   "cell_type": "code",
   "execution_count": null,
   "metadata": {
    "ExecuteTime": {
     "end_time": "2016-12-03T12:50:20.183645",
     "start_time": "2016-12-03T12:50:20.176640"
    }
   },
   "outputs": [],
   "source": [
    "B.min()"
   ]
  },
  {
   "cell_type": "markdown",
   "metadata": {
    "ExecuteTime": {
     "end_time": "2016-12-03T12:48:24.150039",
     "start_time": "2016-12-03T12:48:24.145047"
    }
   },
   "source": [
    "## upcasting  \n",
    "Podczas pracy z tablicami różnych typów, typ wynikowej macierzy odpowiada bardziej ogólnemu lub dokładniejszemu (zachowanie znane jako upcasting)."
   ]
  },
  {
   "cell_type": "code",
   "execution_count": null,
   "metadata": {
    "ExecuteTime": {
     "end_time": "2016-12-03T12:49:39.093901",
     "start_time": "2016-12-03T12:49:39.086884"
    }
   },
   "outputs": [],
   "source": [
    "a = np.ones(3, dtype=np.int32)\n",
    "print(\"a type:\", a.dtype)\n",
    "b = np.linspace(0,np.pi,3)\n",
    "print(\"b type:\", b.dtype)\n",
    "c = a+b\n",
    "print(\"c type:\", c.dtype)"
   ]
  },
  {
   "cell_type": "markdown",
   "metadata": {},
   "source": [
    "## Broadcasting"
   ]
  },
  {
   "cell_type": "code",
   "execution_count": null,
   "metadata": {},
   "outputs": [],
   "source": [
    "a = np.array([0, 1, 2])\n",
    "b = np.array([5, 5, 5])\n",
    "a + b"
   ]
  },
  {
   "cell_type": "code",
   "execution_count": null,
   "metadata": {},
   "outputs": [],
   "source": [
    "a + 5"
   ]
  },
  {
   "cell_type": "markdown",
   "metadata": {},
   "source": [
    "`5` jest rozciągane do tablicy  `[5, 5, 5]`"
   ]
  },
  {
   "cell_type": "code",
   "execution_count": null,
   "metadata": {},
   "outputs": [],
   "source": [
    "M = np.ones((3, 3))\n",
    "M"
   ]
  },
  {
   "cell_type": "code",
   "execution_count": null,
   "metadata": {},
   "outputs": [],
   "source": [
    "M + a"
   ]
  },
  {
   "cell_type": "markdown",
   "metadata": {},
   "source": [
    "Tutaj jednowymiarowa tablica `a` jest rozciągnięta lub nadawana przez drugi wymiar w celu dopasowania do kształtu `M`."
   ]
  },
  {
   "cell_type": "markdown",
   "metadata": {},
   "source": [
    "## Operacje wzdłuż jednej osi - np sumowanie wierszy czy kolumn"
   ]
  },
  {
   "cell_type": "code",
   "execution_count": null,
   "metadata": {
    "ExecuteTime": {
     "end_time": "2016-12-03T13:04:45.170084",
     "start_time": "2016-12-03T13:04:45.163064"
    }
   },
   "outputs": [],
   "source": [
    "b = np.arange(12).reshape(3,4)\n",
    "b"
   ]
  },
  {
   "cell_type": "code",
   "execution_count": null,
   "metadata": {
    "ExecuteTime": {
     "end_time": "2016-12-03T13:04:56.894482",
     "start_time": "2016-12-03T13:04:56.889479"
    }
   },
   "outputs": [],
   "source": [
    "b.sum(axis=0) # sum of each column"
   ]
  },
  {
   "cell_type": "code",
   "execution_count": null,
   "metadata": {
    "ExecuteTime": {
     "end_time": "2016-12-03T13:05:12.703406",
     "start_time": "2016-12-03T13:05:12.697387"
    }
   },
   "outputs": [],
   "source": [
    "b.sum(axis=1) # sum of each row"
   ]
  },
  {
   "cell_type": "code",
   "execution_count": null,
   "metadata": {
    "ExecuteTime": {
     "end_time": "2016-12-03T13:05:46.206233",
     "start_time": "2016-12-03T13:05:46.201244"
    }
   },
   "outputs": [],
   "source": [
    "b.cumsum(axis=1) # cumulative sum along each row"
   ]
  },
  {
   "cell_type": "markdown",
   "metadata": {
    "ExecuteTime": {
     "end_time": "2016-12-03T13:06:19.726758",
     "start_time": "2016-12-03T13:06:19.723756"
    }
   },
   "source": [
    "## Universal Functions"
   ]
  },
  {
   "cell_type": "code",
   "execution_count": null,
   "metadata": {
    "ExecuteTime": {
     "end_time": "2016-12-03T13:06:35.134170",
     "start_time": "2016-12-03T13:06:35.130168"
    }
   },
   "outputs": [],
   "source": [
    "B = np.arange(3)"
   ]
  },
  {
   "cell_type": "code",
   "execution_count": null,
   "metadata": {
    "ExecuteTime": {
     "end_time": "2016-12-03T13:06:52.633331",
     "start_time": "2016-12-03T13:06:52.627313"
    }
   },
   "outputs": [],
   "source": [
    "np.exp(B)"
   ]
  },
  {
   "cell_type": "code",
   "execution_count": null,
   "metadata": {
    "ExecuteTime": {
     "end_time": "2016-12-03T13:06:58.438645",
     "start_time": "2016-12-03T13:06:58.433629"
    }
   },
   "outputs": [],
   "source": [
    "np.sqrt(B)"
   ]
  },
  {
   "cell_type": "code",
   "execution_count": null,
   "metadata": {
    "ExecuteTime": {
     "end_time": "2016-12-03T13:07:36.693469",
     "start_time": "2016-12-03T13:07:36.688451"
    }
   },
   "outputs": [],
   "source": [
    "np.sin(B)"
   ]
  },
  {
   "cell_type": "markdown",
   "metadata": {},
   "source": [
    "<img src=\"https://upload.wikimedia.org/wikipedia/commons/7/71/Sine_cosine_one_period.svg\" />"
   ]
  },
  {
   "cell_type": "code",
   "execution_count": null,
   "metadata": {
    "ExecuteTime": {
     "end_time": "2016-12-03T13:11:56.007131",
     "start_time": "2016-12-03T13:11:56.002126"
    }
   },
   "outputs": [],
   "source": [
    "a = np.linspace(0, np.pi, 5)\n",
    "a"
   ]
  },
  {
   "cell_type": "code",
   "execution_count": null,
   "metadata": {
    "ExecuteTime": {
     "end_time": "2016-12-03T13:11:56.286634",
     "start_time": "2016-12-03T13:11:56.281630"
    }
   },
   "outputs": [],
   "source": [
    "np.sin(a)"
   ]
  },
  {
   "cell_type": "code",
   "execution_count": null,
   "metadata": {
    "ExecuteTime": {
     "end_time": "2016-12-03T13:12:01.445430",
     "start_time": "2016-12-03T13:12:01.440418"
    }
   },
   "outputs": [],
   "source": [
    "np.cos(a)"
   ]
  },
  {
   "cell_type": "markdown",
   "metadata": {
    "ExecuteTime": {
     "end_time": "2016-12-03T13:13:29.860635",
     "start_time": "2016-12-03T13:13:29.858618"
    }
   },
   "source": [
    "# Indeksowanie, wycinanie, iterowanie - Indexing, Slicing and Iterating"
   ]
  },
  {
   "cell_type": "markdown",
   "metadata": {},
   "source": [
    "Dla jednego wymiary działa to analogicznie jak dla zwykłych tablic - przećwiczmy to - notebook z ćwiczeniami:"
   ]
  },
  {
   "cell_type": "code",
   "execution_count": null,
   "metadata": {},
   "outputs": [],
   "source": []
  },
  {
   "cell_type": "code",
   "execution_count": null,
   "metadata": {},
   "outputs": [],
   "source": []
  },
  {
   "cell_type": "code",
   "execution_count": null,
   "metadata": {},
   "outputs": [],
   "source": []
  },
  {
   "cell_type": "code",
   "execution_count": null,
   "metadata": {},
   "outputs": [],
   "source": []
  },
  {
   "cell_type": "code",
   "execution_count": null,
   "metadata": {},
   "outputs": [],
   "source": []
  },
  {
   "cell_type": "code",
   "execution_count": null,
   "metadata": {},
   "outputs": [],
   "source": []
  },
  {
   "cell_type": "code",
   "execution_count": null,
   "metadata": {
    "ExecuteTime": {
     "end_time": "2016-12-03T13:13:43.233587",
     "start_time": "2016-12-03T13:13:43.227583"
    }
   },
   "outputs": [],
   "source": [
    "a = np.arange(10)**3\n",
    "a"
   ]
  },
  {
   "cell_type": "code",
   "execution_count": null,
   "metadata": {
    "ExecuteTime": {
     "end_time": "2016-12-03T13:13:49.263168",
     "start_time": "2016-12-03T13:13:49.258162"
    }
   },
   "outputs": [],
   "source": [
    "a[2]"
   ]
  },
  {
   "cell_type": "markdown",
   "metadata": {},
   "source": [
    "[ 0, 1, **8**, **27**, **64**, 125, 216, 343, 512, 729]"
   ]
  },
  {
   "cell_type": "code",
   "execution_count": null,
   "metadata": {
    "ExecuteTime": {
     "end_time": "2016-12-03T13:13:52.503802",
     "start_time": "2016-12-03T13:13:52.497810"
    }
   },
   "outputs": [],
   "source": [
    "a[2:5]"
   ]
  },
  {
   "cell_type": "markdown",
   "metadata": {},
   "source": [
    "[ **0**, 1, **8**, 27, **64**, 125, 216, 343, 512, 729]"
   ]
  },
  {
   "cell_type": "code",
   "execution_count": null,
   "metadata": {
    "ExecuteTime": {
     "end_time": "2016-12-03T13:14:12.127498",
     "start_time": "2016-12-03T13:14:12.122506"
    }
   },
   "outputs": [],
   "source": [
    "a[:6:2]"
   ]
  },
  {
   "cell_type": "code",
   "execution_count": null,
   "metadata": {
    "ExecuteTime": {
     "end_time": "2016-12-03T13:15:51.415834",
     "start_time": "2016-12-03T13:15:51.410830"
    }
   },
   "outputs": [],
   "source": [
    "a[0] = 10\n",
    "a"
   ]
  },
  {
   "cell_type": "code",
   "execution_count": null,
   "metadata": {
    "ExecuteTime": {
     "end_time": "2016-12-03T13:16:06.440980",
     "start_time": "2016-12-03T13:16:06.434976"
    }
   },
   "outputs": [],
   "source": [
    "a[:6:2] = -1000\n",
    "a"
   ]
  },
  {
   "cell_type": "code",
   "execution_count": null,
   "metadata": {
    "ExecuteTime": {
     "end_time": "2016-12-03T13:16:29.568099",
     "start_time": "2016-12-03T13:16:29.562083"
    }
   },
   "outputs": [],
   "source": [
    "a[ : :-1]"
   ]
  },
  {
   "cell_type": "code",
   "execution_count": null,
   "metadata": {},
   "outputs": [],
   "source": [
    "a.dtype"
   ]
  },
  {
   "cell_type": "code",
   "execution_count": null,
   "metadata": {},
   "outputs": [],
   "source": []
  },
  {
   "cell_type": "code",
   "execution_count": null,
   "metadata": {
    "ExecuteTime": {
     "end_time": "2016-12-03T13:18:18.768477",
     "start_time": "2016-12-03T13:18:18.762482"
    }
   },
   "outputs": [],
   "source": [
    "for i in a:\n",
    "    print(i**(1/3.))"
   ]
  },
  {
   "cell_type": "markdown",
   "metadata": {},
   "source": [
    "jako ciekawostka - użycie funkcji do tworzenia tablicy\n"
   ]
  },
  {
   "cell_type": "code",
   "execution_count": null,
   "metadata": {},
   "outputs": [],
   "source": [
    "np.fromfunction?"
   ]
  },
  {
   "cell_type": "code",
   "execution_count": null,
   "metadata": {
    "ExecuteTime": {
     "end_time": "2016-12-03T13:19:04.126667",
     "start_time": "2016-12-03T13:19:04.122667"
    }
   },
   "outputs": [],
   "source": [
    "def f(x,y):\n",
    "    return 1*x+y"
   ]
  },
  {
   "cell_type": "code",
   "execution_count": null,
   "metadata": {},
   "outputs": [],
   "source": [
    "f(5,4)"
   ]
  },
  {
   "cell_type": "code",
   "execution_count": null,
   "metadata": {
    "ExecuteTime": {
     "end_time": "2016-12-03T13:36:27.110806",
     "start_time": "2016-12-03T13:36:27.105803"
    }
   },
   "outputs": [],
   "source": [
    "b = np.fromfunction(f,(5,5),dtype=int)\n",
    "b"
   ]
  },
  {
   "cell_type": "code",
   "execution_count": null,
   "metadata": {
    "ExecuteTime": {
     "end_time": "2016-12-03T13:19:24.175421",
     "start_time": "2016-12-03T13:19:24.171429"
    }
   },
   "outputs": [],
   "source": [
    "b[2,3]"
   ]
  },
  {
   "cell_type": "markdown",
   "metadata": {},
   "source": [
    "więcej wymiarów:"
   ]
  },
  {
   "cell_type": "code",
   "execution_count": null,
   "metadata": {
    "ExecuteTime": {
     "end_time": "2016-12-03T13:19:31.375529",
     "start_time": "2016-12-03T13:19:31.370527"
    }
   },
   "outputs": [],
   "source": [
    "b[0:5, 0:5]"
   ]
  },
  {
   "cell_type": "code",
   "execution_count": null,
   "metadata": {
    "ExecuteTime": {
     "end_time": "2016-12-03T13:19:37.928398",
     "start_time": "2016-12-03T13:19:37.922379"
    }
   },
   "outputs": [],
   "source": [
    "b[ : ,1]"
   ]
  },
  {
   "cell_type": "code",
   "execution_count": null,
   "metadata": {
    "ExecuteTime": {
     "end_time": "2016-12-03T13:20:06.406128",
     "start_time": "2016-12-03T13:20:06.401109"
    }
   },
   "outputs": [],
   "source": [
    "b[1:3, : ]  # drugi index - po całym zakresie"
   ]
  },
  {
   "cell_type": "markdown",
   "metadata": {},
   "source": [
    "Gdy podano mniej wskaźników niż liczba osi, brakujące wskaźniki są uważane za pełne przekroje"
   ]
  },
  {
   "cell_type": "code",
   "execution_count": null,
   "metadata": {
    "ExecuteTime": {
     "end_time": "2016-12-03T13:21:07.177763",
     "start_time": "2016-12-03T13:21:07.171774"
    }
   },
   "outputs": [],
   "source": [
    "b[-1]  # Equivalent to b[-1,:]"
   ]
  },
  {
   "cell_type": "code",
   "execution_count": null,
   "metadata": {
    "ExecuteTime": {
     "end_time": "2016-12-03T13:36:37.049511",
     "start_time": "2016-12-03T13:36:37.044508"
    }
   },
   "outputs": [],
   "source": [
    "b > 10"
   ]
  },
  {
   "cell_type": "code",
   "execution_count": null,
   "metadata": {},
   "outputs": [],
   "source": [
    "b > 5"
   ]
  },
  {
   "cell_type": "code",
   "execution_count": null,
   "metadata": {
    "ExecuteTime": {
     "end_time": "2016-12-03T13:37:22.448119",
     "start_time": "2016-12-03T13:37:22.443101"
    }
   },
   "outputs": [],
   "source": [
    "b[b>5]"
   ]
  },
  {
   "cell_type": "code",
   "execution_count": null,
   "metadata": {},
   "outputs": [],
   "source": []
  },
  {
   "cell_type": "markdown",
   "metadata": {},
   "source": [
    "a gdybyśmy chcieli wybrać tylko wiersze zawierające liczbę większa od 5?"
   ]
  },
  {
   "cell_type": "code",
   "execution_count": null,
   "metadata": {
    "ExecuteTime": {
     "end_time": "2016-12-03T13:38:36.757562",
     "start_time": "2016-12-03T13:38:36.752558"
    }
   },
   "outputs": [],
   "source": [
    "(b > 5).any(axis=1)"
   ]
  },
  {
   "cell_type": "code",
   "execution_count": null,
   "metadata": {
    "ExecuteTime": {
     "end_time": "2016-12-03T13:38:20.888662",
     "start_time": "2016-12-03T13:38:20.882643"
    }
   },
   "outputs": [],
   "source": [
    "b[(b > 5).any(axis=1),:]"
   ]
  },
  {
   "cell_type": "markdown",
   "metadata": {},
   "source": [
    "## Iterating"
   ]
  },
  {
   "cell_type": "code",
   "execution_count": null,
   "metadata": {
    "ExecuteTime": {
     "end_time": "2016-12-03T13:22:12.562052",
     "start_time": "2016-12-03T13:22:12.555047"
    }
   },
   "outputs": [],
   "source": [
    "for row in b:\n",
    "     print(row)"
   ]
  },
  {
   "cell_type": "code",
   "execution_count": null,
   "metadata": {
    "ExecuteTime": {
     "end_time": "2016-12-03T13:22:35.827262",
     "start_time": "2016-12-03T13:22:35.819244"
    }
   },
   "outputs": [],
   "source": [
    "for element in b.flat:\n",
    "    print(element)"
   ]
  },
  {
   "cell_type": "code",
   "execution_count": null,
   "metadata": {
    "ExecuteTime": {
     "end_time": "2016-12-03T13:26:02.371133",
     "start_time": "2016-12-03T13:26:02.365128"
    }
   },
   "outputs": [],
   "source": [
    "b.ravel()"
   ]
  },
  {
   "cell_type": "code",
   "execution_count": null,
   "metadata": {
    "ExecuteTime": {
     "end_time": "2016-12-03T13:26:12.000990",
     "start_time": "2016-12-03T13:26:11.993971"
    }
   },
   "outputs": [],
   "source": [
    "for element in b.ravel():\n",
    "    print(element)"
   ]
  },
  {
   "cell_type": "markdown",
   "metadata": {
    "ExecuteTime": {
     "end_time": "2016-12-03T13:26:47.720281",
     "start_time": "2016-12-03T13:26:47.716265"
    }
   },
   "source": [
    "# Układanie/ łączenie różnych tablic - stacking"
   ]
  },
  {
   "cell_type": "code",
   "execution_count": null,
   "metadata": {
    "ExecuteTime": {
     "end_time": "2016-12-03T13:26:53.641258",
     "start_time": "2016-12-03T13:26:53.635252"
    }
   },
   "outputs": [],
   "source": [
    "a = np.floor(10*np.random.random((2,2)))\n",
    "a"
   ]
  },
  {
   "cell_type": "code",
   "execution_count": null,
   "metadata": {
    "ExecuteTime": {
     "end_time": "2016-12-03T13:27:01.553584",
     "start_time": "2016-12-03T13:27:01.547576"
    }
   },
   "outputs": [],
   "source": [
    "b = np.floor(10*np.random.random((2,2)))\n",
    "b"
   ]
  },
  {
   "cell_type": "code",
   "execution_count": null,
   "metadata": {
    "ExecuteTime": {
     "end_time": "2016-12-03T13:27:15.034134",
     "start_time": "2016-12-03T13:27:15.029130"
    }
   },
   "outputs": [],
   "source": [
    "np.vstack([a,b])"
   ]
  },
  {
   "cell_type": "code",
   "execution_count": null,
   "metadata": {
    "ExecuteTime": {
     "end_time": "2016-12-03T13:27:24.145884",
     "start_time": "2016-12-03T13:27:24.139883"
    }
   },
   "outputs": [],
   "source": [
    "np.hstack([a,b])"
   ]
  },
  {
   "cell_type": "markdown",
   "metadata": {},
   "source": [
    "# Kopie i widoki - Copies nad Views"
   ]
  },
  {
   "cell_type": "code",
   "execution_count": null,
   "metadata": {
    "ExecuteTime": {
     "end_time": "2016-12-03T13:31:52.008008",
     "start_time": "2016-12-03T13:31:52.005006"
    }
   },
   "outputs": [],
   "source": [
    "a = np.arange(12)\n",
    "b = a            # no new object is created"
   ]
  },
  {
   "cell_type": "code",
   "execution_count": null,
   "metadata": {
    "ExecuteTime": {
     "end_time": "2016-12-03T13:31:53.199896",
     "start_time": "2016-12-03T13:31:53.195877"
    }
   },
   "outputs": [],
   "source": [
    "b is a           # a and b are two names for the same ndarray object"
   ]
  },
  {
   "cell_type": "code",
   "execution_count": null,
   "metadata": {
    "ExecuteTime": {
     "end_time": "2016-12-03T13:31:56.265169",
     "start_time": "2016-12-03T13:31:56.260148"
    }
   },
   "outputs": [],
   "source": [
    "b.shape = 3,4    # changes the shape of a\n",
    "a.shape"
   ]
  },
  {
   "cell_type": "markdown",
   "metadata": {},
   "source": [
    "## View or Shallow Copy"
   ]
  },
  {
   "cell_type": "code",
   "execution_count": null,
   "metadata": {
    "ExecuteTime": {
     "end_time": "2016-12-03T13:32:58.911552",
     "start_time": "2016-12-03T13:32:58.908536"
    }
   },
   "outputs": [],
   "source": [
    "c = a.view()"
   ]
  },
  {
   "cell_type": "code",
   "execution_count": null,
   "metadata": {
    "ExecuteTime": {
     "end_time": "2016-12-03T13:33:06.758662",
     "start_time": "2016-12-03T13:33:06.754646"
    }
   },
   "outputs": [],
   "source": [
    "c is a"
   ]
  },
  {
   "cell_type": "code",
   "execution_count": null,
   "metadata": {
    "ExecuteTime": {
     "end_time": "2016-12-03T13:33:39.664251",
     "start_time": "2016-12-03T13:33:39.660248"
    }
   },
   "outputs": [],
   "source": [
    "c.base is a"
   ]
  },
  {
   "cell_type": "code",
   "execution_count": null,
   "metadata": {
    "ExecuteTime": {
     "end_time": "2016-12-03T13:33:49.200465",
     "start_time": "2016-12-03T13:33:49.196475"
    }
   },
   "outputs": [],
   "source": [
    "c.flags.owndata"
   ]
  },
  {
   "cell_type": "code",
   "execution_count": null,
   "metadata": {
    "ExecuteTime": {
     "end_time": "2016-12-03T13:33:57.304914",
     "start_time": "2016-12-03T13:33:57.300912"
    }
   },
   "outputs": [],
   "source": [
    "c.shape = 2,6  \n",
    "a.shape"
   ]
  },
  {
   "cell_type": "code",
   "execution_count": null,
   "metadata": {
    "ExecuteTime": {
     "end_time": "2016-12-03T13:34:09.001047",
     "start_time": "2016-12-03T13:34:08.996030"
    }
   },
   "outputs": [],
   "source": [
    "c"
   ]
  },
  {
   "cell_type": "code",
   "execution_count": null,
   "metadata": {
    "ExecuteTime": {
     "end_time": "2016-12-03T13:34:24.328553",
     "start_time": "2016-12-03T13:34:24.324535"
    }
   },
   "outputs": [],
   "source": [
    "c[0,4] = -1000"
   ]
  },
  {
   "cell_type": "code",
   "execution_count": null,
   "metadata": {
    "ExecuteTime": {
     "end_time": "2016-12-03T13:34:27.290444",
     "start_time": "2016-12-03T13:34:27.285426"
    }
   },
   "outputs": [],
   "source": [
    "c"
   ]
  },
  {
   "cell_type": "code",
   "execution_count": null,
   "metadata": {
    "ExecuteTime": {
     "end_time": "2016-12-03T13:34:29.202656",
     "start_time": "2016-12-03T13:34:29.196661"
    }
   },
   "outputs": [],
   "source": [
    "a"
   ]
  },
  {
   "cell_type": "markdown",
   "metadata": {},
   "source": [
    "Slicing"
   ]
  },
  {
   "cell_type": "code",
   "execution_count": null,
   "metadata": {
    "ExecuteTime": {
     "end_time": "2016-12-03T13:35:06.649450",
     "start_time": "2016-12-03T13:35:06.644446"
    }
   },
   "outputs": [],
   "source": [
    "s = a[ : , 1:3]\n",
    "s"
   ]
  },
  {
   "cell_type": "code",
   "execution_count": null,
   "metadata": {
    "ExecuteTime": {
     "end_time": "2016-12-03T13:35:53.239910",
     "start_time": "2016-12-03T13:35:53.236908"
    }
   },
   "outputs": [],
   "source": [
    "s[:] = 10 # assign value to each cell"
   ]
  },
  {
   "cell_type": "code",
   "execution_count": null,
   "metadata": {
    "ExecuteTime": {
     "end_time": "2016-12-03T13:35:54.501452",
     "start_time": "2016-12-03T13:35:54.496448"
    }
   },
   "outputs": [],
   "source": [
    "s"
   ]
  },
  {
   "cell_type": "code",
   "execution_count": null,
   "metadata": {
    "ExecuteTime": {
     "end_time": "2016-12-03T13:35:56.913516",
     "start_time": "2016-12-03T13:35:56.909526"
    }
   },
   "outputs": [],
   "source": [
    "a"
   ]
  },
  {
   "cell_type": "markdown",
   "metadata": {
    "collapsed": true
   },
   "source": [
    "# SciPy"
   ]
  },
  {
   "cell_type": "code",
   "execution_count": null,
   "metadata": {},
   "outputs": [],
   "source": [
    "from scipy import sparse\n",
    "from sys import getsizeof"
   ]
  },
  {
   "cell_type": "code",
   "execution_count": null,
   "metadata": {},
   "outputs": [],
   "source": [
    "#!pip install scipy"
   ]
  },
  {
   "cell_type": "code",
   "execution_count": null,
   "metadata": {},
   "outputs": [],
   "source": [
    "a = np.array([[0,0,1,0,0],\n",
    "[0,1,0,0,0],[0,0,1,0,0],[0,0,0,1,0],[0,0,1,0,4]])"
   ]
  },
  {
   "cell_type": "code",
   "execution_count": null,
   "metadata": {},
   "outputs": [],
   "source": [
    "a.size"
   ]
  },
  {
   "cell_type": "code",
   "execution_count": null,
   "metadata": {},
   "outputs": [],
   "source": [
    "getsizeof(a)"
   ]
  },
  {
   "cell_type": "code",
   "execution_count": null,
   "metadata": {},
   "outputs": [],
   "source": [
    "ar = sparse.csr_matrix(a)\n",
    "ar"
   ]
  },
  {
   "cell_type": "code",
   "execution_count": null,
   "metadata": {},
   "outputs": [],
   "source": [
    "ar.toarray()"
   ]
  },
  {
   "cell_type": "code",
   "execution_count": null,
   "metadata": {},
   "outputs": [],
   "source": [
    "ar.data"
   ]
  },
  {
   "cell_type": "code",
   "execution_count": null,
   "metadata": {},
   "outputs": [],
   "source": []
  },
  {
   "cell_type": "code",
   "execution_count": null,
   "metadata": {},
   "outputs": [],
   "source": [
    "getsizeof(ar)"
   ]
  },
  {
   "cell_type": "markdown",
   "metadata": {},
   "source": [
    "## Obrazek to tez tablica"
   ]
  },
  {
   "cell_type": "code",
   "execution_count": null,
   "metadata": {},
   "outputs": [],
   "source": [
    "import matplotlib.image as mpimg\n",
    "\n",
    "im = mpimg.imread('https://vignette.wikia.nocookie.net/steven-universe/images/0/06/Funny_dog.png')"
   ]
  },
  {
   "cell_type": "code",
   "execution_count": null,
   "metadata": {},
   "outputs": [],
   "source": [
    "im.shape"
   ]
  },
  {
   "cell_type": "code",
   "execution_count": null,
   "metadata": {},
   "outputs": [],
   "source": []
  },
  {
   "cell_type": "code",
   "execution_count": null,
   "metadata": {},
   "outputs": [],
   "source": [
    "import matplotlib.pyplot as plt\n",
    "plt.imshow(im)"
   ]
  },
  {
   "cell_type": "markdown",
   "metadata": {},
   "source": [
    "narysujmy coś na tym"
   ]
  },
  {
   "cell_type": "code",
   "execution_count": null,
   "metadata": {},
   "outputs": [],
   "source": [
    "im[:,200:205, 0] = 1\n",
    "im[:,200:205, 1] = 0\n",
    "im[:,200:205, 2] = 0\n",
    "im[:,200:205, 3] = 1"
   ]
  },
  {
   "cell_type": "code",
   "execution_count": null,
   "metadata": {},
   "outputs": [],
   "source": [
    "plt.imshow(im)"
   ]
  },
  {
   "cell_type": "code",
   "execution_count": null,
   "metadata": {},
   "outputs": [],
   "source": [
    "im[150:155,:, 0] = 1\n",
    "im[150:155,:, 1] = 0\n",
    "im[150:155,:, 2] = 0\n",
    "im[150:155,:, 3] = 1\n",
    "plt.imshow(im)"
   ]
  },
  {
   "cell_type": "markdown",
   "metadata": {},
   "source": [
    "# Dokończmy ćwiczenia"
   ]
  },
  {
   "cell_type": "code",
   "execution_count": null,
   "metadata": {},
   "outputs": [],
   "source": []
  }
 ],
 "metadata": {
  "anaconda-cloud": {},
  "hide_input": false,
  "kernelspec": {
   "display_name": "Python 3",
   "language": "python",
   "name": "python3"
  },
  "language_info": {
   "codemirror_mode": {
    "name": "ipython",
    "version": 3
   },
   "file_extension": ".py",
   "mimetype": "text/x-python",
   "name": "python",
   "nbconvert_exporter": "python",
   "pygments_lexer": "ipython3",
   "version": "3.7.4"
  },
  "nav_menu": {
   "height": "246px",
   "width": "252px"
  },
  "nbpresent": {},
  "toc": {
   "base_numbering": 1,
   "nav_menu": {
    "height": "444px",
    "width": "252px"
   },
   "number_sections": true,
   "sideBar": true,
   "skip_h1_title": false,
   "title_cell": "Table of Contents",
   "title_sidebar": "Contents",
   "toc_cell": false,
   "toc_position": {},
   "toc_section_display": "block",
   "toc_window_display": false
  }
 },
 "nbformat": 4,
 "nbformat_minor": 1
}
