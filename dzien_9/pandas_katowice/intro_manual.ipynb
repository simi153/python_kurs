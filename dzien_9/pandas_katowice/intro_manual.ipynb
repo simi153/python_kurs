{
 "cells": [
  {
   "cell_type": "code",
   "execution_count": 112,
   "metadata": {},
   "outputs": [],
   "source": [
    "%matplotlib inline"
   ]
  },
  {
   "cell_type": "code",
   "execution_count": 113,
   "metadata": {},
   "outputs": [],
   "source": [
    "import pandas as pd"
   ]
  },
  {
   "cell_type": "code",
   "execution_count": 114,
   "metadata": {},
   "outputs": [],
   "source": [
    "from datetime import datetime as d"
   ]
  },
  {
   "cell_type": "code",
   "execution_count": 115,
   "metadata": {},
   "outputs": [],
   "source": [
    "df = pd.DataFrame({\n",
    "        'first_name': ['Aleksandra', 'Tomek', 'Konrad', 'Katarzyna', 'Jan', 'Tomek'],\n",
    "        'last_name': ['Nowak', 'Kowalski', 'Lewandowski', 'Woźniak', 'Wiśniewska', 'Błaszczykowski'],\n",
    "        'gender': ['female', 'male', 'male', 'female', 'male', 'male'],\n",
    "        'date_of_birth': [d(1988, 1, 10), d(1938, 10, 22), d(1986, 11, 20), \n",
    "                          d(1980, 2, 12), d(1978, 5, 21), d(1960, 3, 1)],\n",
    "        'rate': [100, 90, 50, 110, 170, 40],\n",
    "        'hours': [60, 20, 100, 50, 160, 70],\n",
    "    },\n",
    "    columns=('first_name', 'last_name', 'gender', 'date_of_birth', 'rate', 'hours'),\n",
    ")"
   ]
  },
  {
   "cell_type": "code",
   "execution_count": 116,
   "metadata": {},
   "outputs": [
    {
     "data": {
      "text/html": [
       "<div>\n",
       "<style scoped>\n",
       "    .dataframe tbody tr th:only-of-type {\n",
       "        vertical-align: middle;\n",
       "    }\n",
       "\n",
       "    .dataframe tbody tr th {\n",
       "        vertical-align: top;\n",
       "    }\n",
       "\n",
       "    .dataframe thead th {\n",
       "        text-align: right;\n",
       "    }\n",
       "</style>\n",
       "<table border=\"1\" class=\"dataframe\">\n",
       "  <thead>\n",
       "    <tr style=\"text-align: right;\">\n",
       "      <th></th>\n",
       "      <th>first_name</th>\n",
       "      <th>last_name</th>\n",
       "      <th>gender</th>\n",
       "      <th>date_of_birth</th>\n",
       "      <th>rate</th>\n",
       "      <th>hours</th>\n",
       "    </tr>\n",
       "  </thead>\n",
       "  <tbody>\n",
       "    <tr>\n",
       "      <th>0</th>\n",
       "      <td>Aleksandra</td>\n",
       "      <td>Nowak</td>\n",
       "      <td>female</td>\n",
       "      <td>1988-01-10</td>\n",
       "      <td>100</td>\n",
       "      <td>60</td>\n",
       "    </tr>\n",
       "    <tr>\n",
       "      <th>1</th>\n",
       "      <td>Tomek</td>\n",
       "      <td>Kowalski</td>\n",
       "      <td>male</td>\n",
       "      <td>1938-10-22</td>\n",
       "      <td>90</td>\n",
       "      <td>20</td>\n",
       "    </tr>\n",
       "    <tr>\n",
       "      <th>2</th>\n",
       "      <td>Konrad</td>\n",
       "      <td>Lewandowski</td>\n",
       "      <td>male</td>\n",
       "      <td>1986-11-20</td>\n",
       "      <td>50</td>\n",
       "      <td>100</td>\n",
       "    </tr>\n",
       "    <tr>\n",
       "      <th>3</th>\n",
       "      <td>Katarzyna</td>\n",
       "      <td>Woźniak</td>\n",
       "      <td>female</td>\n",
       "      <td>1980-02-12</td>\n",
       "      <td>110</td>\n",
       "      <td>50</td>\n",
       "    </tr>\n",
       "    <tr>\n",
       "      <th>4</th>\n",
       "      <td>Jan</td>\n",
       "      <td>Wiśniewska</td>\n",
       "      <td>male</td>\n",
       "      <td>1978-05-21</td>\n",
       "      <td>170</td>\n",
       "      <td>160</td>\n",
       "    </tr>\n",
       "    <tr>\n",
       "      <th>5</th>\n",
       "      <td>Tomek</td>\n",
       "      <td>Błaszczykowski</td>\n",
       "      <td>male</td>\n",
       "      <td>1960-03-01</td>\n",
       "      <td>40</td>\n",
       "      <td>70</td>\n",
       "    </tr>\n",
       "  </tbody>\n",
       "</table>\n",
       "</div>"
      ],
      "text/plain": [
       "   first_name       last_name  gender date_of_birth  rate  hours\n",
       "0  Aleksandra           Nowak  female    1988-01-10   100     60\n",
       "1       Tomek        Kowalski    male    1938-10-22    90     20\n",
       "2      Konrad     Lewandowski    male    1986-11-20    50    100\n",
       "3   Katarzyna         Woźniak  female    1980-02-12   110     50\n",
       "4         Jan      Wiśniewska    male    1978-05-21   170    160\n",
       "5       Tomek  Błaszczykowski    male    1960-03-01    40     70"
      ]
     },
     "execution_count": 116,
     "metadata": {},
     "output_type": "execute_result"
    }
   ],
   "source": [
    "df"
   ]
  },
  {
   "cell_type": "code",
   "execution_count": 117,
   "metadata": {},
   "outputs": [
    {
     "data": {
      "text/html": [
       "<div>\n",
       "<style scoped>\n",
       "    .dataframe tbody tr th:only-of-type {\n",
       "        vertical-align: middle;\n",
       "    }\n",
       "\n",
       "    .dataframe tbody tr th {\n",
       "        vertical-align: top;\n",
       "    }\n",
       "\n",
       "    .dataframe thead th {\n",
       "        text-align: right;\n",
       "    }\n",
       "</style>\n",
       "<table border=\"1\" class=\"dataframe\">\n",
       "  <thead>\n",
       "    <tr style=\"text-align: right;\">\n",
       "      <th></th>\n",
       "      <th>first_name</th>\n",
       "      <th>last_name</th>\n",
       "      <th>gender</th>\n",
       "      <th>date_of_birth</th>\n",
       "      <th>rate</th>\n",
       "      <th>hours</th>\n",
       "    </tr>\n",
       "  </thead>\n",
       "  <tbody>\n",
       "    <tr>\n",
       "      <th>1</th>\n",
       "      <td>Tomek</td>\n",
       "      <td>Kowalski</td>\n",
       "      <td>male</td>\n",
       "      <td>1938-10-22</td>\n",
       "      <td>90</td>\n",
       "      <td>20</td>\n",
       "    </tr>\n",
       "    <tr>\n",
       "      <th>2</th>\n",
       "      <td>Konrad</td>\n",
       "      <td>Lewandowski</td>\n",
       "      <td>male</td>\n",
       "      <td>1986-11-20</td>\n",
       "      <td>50</td>\n",
       "      <td>100</td>\n",
       "    </tr>\n",
       "    <tr>\n",
       "      <th>4</th>\n",
       "      <td>Jan</td>\n",
       "      <td>Wiśniewska</td>\n",
       "      <td>male</td>\n",
       "      <td>1978-05-21</td>\n",
       "      <td>170</td>\n",
       "      <td>160</td>\n",
       "    </tr>\n",
       "    <tr>\n",
       "      <th>5</th>\n",
       "      <td>Tomek</td>\n",
       "      <td>Błaszczykowski</td>\n",
       "      <td>male</td>\n",
       "      <td>1960-03-01</td>\n",
       "      <td>40</td>\n",
       "      <td>70</td>\n",
       "    </tr>\n",
       "  </tbody>\n",
       "</table>\n",
       "</div>"
      ],
      "text/plain": [
       "  first_name       last_name gender date_of_birth  rate  hours\n",
       "1      Tomek        Kowalski   male    1938-10-22    90     20\n",
       "2     Konrad     Lewandowski   male    1986-11-20    50    100\n",
       "4        Jan      Wiśniewska   male    1978-05-21   170    160\n",
       "5      Tomek  Błaszczykowski   male    1960-03-01    40     70"
      ]
     },
     "execution_count": 117,
     "metadata": {},
     "output_type": "execute_result"
    }
   ],
   "source": [
    "df[df.gender == 'male']"
   ]
  },
  {
   "cell_type": "code",
   "execution_count": 118,
   "metadata": {},
   "outputs": [
    {
     "data": {
      "text/html": [
       "<div>\n",
       "<style scoped>\n",
       "    .dataframe tbody tr th:only-of-type {\n",
       "        vertical-align: middle;\n",
       "    }\n",
       "\n",
       "    .dataframe tbody tr th {\n",
       "        vertical-align: top;\n",
       "    }\n",
       "\n",
       "    .dataframe thead th {\n",
       "        text-align: right;\n",
       "    }\n",
       "</style>\n",
       "<table border=\"1\" class=\"dataframe\">\n",
       "  <thead>\n",
       "    <tr style=\"text-align: right;\">\n",
       "      <th></th>\n",
       "      <th>first_name</th>\n",
       "      <th>last_name</th>\n",
       "      <th>gender</th>\n",
       "      <th>date_of_birth</th>\n",
       "      <th>rate</th>\n",
       "      <th>hours</th>\n",
       "    </tr>\n",
       "  </thead>\n",
       "  <tbody>\n",
       "    <tr>\n",
       "      <th>2</th>\n",
       "      <td>Konrad</td>\n",
       "      <td>Lewandowski</td>\n",
       "      <td>male</td>\n",
       "      <td>1986-11-20</td>\n",
       "      <td>50</td>\n",
       "      <td>100</td>\n",
       "    </tr>\n",
       "    <tr>\n",
       "      <th>4</th>\n",
       "      <td>Jan</td>\n",
       "      <td>Wiśniewska</td>\n",
       "      <td>male</td>\n",
       "      <td>1978-05-21</td>\n",
       "      <td>170</td>\n",
       "      <td>160</td>\n",
       "    </tr>\n",
       "  </tbody>\n",
       "</table>\n",
       "</div>"
      ],
      "text/plain": [
       "  first_name    last_name gender date_of_birth  rate  hours\n",
       "2     Konrad  Lewandowski   male    1986-11-20    50    100\n",
       "4        Jan   Wiśniewska   male    1978-05-21   170    160"
      ]
     },
     "execution_count": 118,
     "metadata": {},
     "output_type": "execute_result"
    }
   ],
   "source": [
    "df[(df.gender == 'male') & (df.date_of_birth.dt.year > 1970)]"
   ]
  },
  {
   "cell_type": "code",
   "execution_count": 119,
   "metadata": {},
   "outputs": [],
   "source": [
    "df['per_month'] = df.rate * df.hours"
   ]
  },
  {
   "cell_type": "code",
   "execution_count": 120,
   "metadata": {},
   "outputs": [
    {
     "data": {
      "text/html": [
       "<div>\n",
       "<style scoped>\n",
       "    .dataframe tbody tr th:only-of-type {\n",
       "        vertical-align: middle;\n",
       "    }\n",
       "\n",
       "    .dataframe tbody tr th {\n",
       "        vertical-align: top;\n",
       "    }\n",
       "\n",
       "    .dataframe thead th {\n",
       "        text-align: right;\n",
       "    }\n",
       "</style>\n",
       "<table border=\"1\" class=\"dataframe\">\n",
       "  <thead>\n",
       "    <tr style=\"text-align: right;\">\n",
       "      <th></th>\n",
       "      <th>first_name</th>\n",
       "      <th>last_name</th>\n",
       "      <th>gender</th>\n",
       "      <th>date_of_birth</th>\n",
       "      <th>rate</th>\n",
       "      <th>hours</th>\n",
       "      <th>per_month</th>\n",
       "    </tr>\n",
       "  </thead>\n",
       "  <tbody>\n",
       "    <tr>\n",
       "      <th>4</th>\n",
       "      <td>Jan</td>\n",
       "      <td>Wiśniewska</td>\n",
       "      <td>male</td>\n",
       "      <td>1978-05-21</td>\n",
       "      <td>170</td>\n",
       "      <td>160</td>\n",
       "      <td>27200</td>\n",
       "    </tr>\n",
       "    <tr>\n",
       "      <th>0</th>\n",
       "      <td>Aleksandra</td>\n",
       "      <td>Nowak</td>\n",
       "      <td>female</td>\n",
       "      <td>1988-01-10</td>\n",
       "      <td>100</td>\n",
       "      <td>60</td>\n",
       "      <td>6000</td>\n",
       "    </tr>\n",
       "    <tr>\n",
       "      <th>3</th>\n",
       "      <td>Katarzyna</td>\n",
       "      <td>Woźniak</td>\n",
       "      <td>female</td>\n",
       "      <td>1980-02-12</td>\n",
       "      <td>110</td>\n",
       "      <td>50</td>\n",
       "      <td>5500</td>\n",
       "    </tr>\n",
       "    <tr>\n",
       "      <th>2</th>\n",
       "      <td>Konrad</td>\n",
       "      <td>Lewandowski</td>\n",
       "      <td>male</td>\n",
       "      <td>1986-11-20</td>\n",
       "      <td>50</td>\n",
       "      <td>100</td>\n",
       "      <td>5000</td>\n",
       "    </tr>\n",
       "    <tr>\n",
       "      <th>5</th>\n",
       "      <td>Tomek</td>\n",
       "      <td>Błaszczykowski</td>\n",
       "      <td>male</td>\n",
       "      <td>1960-03-01</td>\n",
       "      <td>40</td>\n",
       "      <td>70</td>\n",
       "      <td>2800</td>\n",
       "    </tr>\n",
       "    <tr>\n",
       "      <th>1</th>\n",
       "      <td>Tomek</td>\n",
       "      <td>Kowalski</td>\n",
       "      <td>male</td>\n",
       "      <td>1938-10-22</td>\n",
       "      <td>90</td>\n",
       "      <td>20</td>\n",
       "      <td>1800</td>\n",
       "    </tr>\n",
       "  </tbody>\n",
       "</table>\n",
       "</div>"
      ],
      "text/plain": [
       "   first_name       last_name  gender date_of_birth  rate  hours  per_month\n",
       "4         Jan      Wiśniewska    male    1978-05-21   170    160      27200\n",
       "0  Aleksandra           Nowak  female    1988-01-10   100     60       6000\n",
       "3   Katarzyna         Woźniak  female    1980-02-12   110     50       5500\n",
       "2      Konrad     Lewandowski    male    1986-11-20    50    100       5000\n",
       "5       Tomek  Błaszczykowski    male    1960-03-01    40     70       2800\n",
       "1       Tomek        Kowalski    male    1938-10-22    90     20       1800"
      ]
     },
     "execution_count": 120,
     "metadata": {},
     "output_type": "execute_result"
    }
   ],
   "source": [
    "df.sort_values('per_month', ascending=False)"
   ]
  },
  {
   "cell_type": "code",
   "execution_count": 121,
   "metadata": {},
   "outputs": [
    {
     "data": {
      "text/plain": [
       "93.333333333333329"
      ]
     },
     "execution_count": 121,
     "metadata": {},
     "output_type": "execute_result"
    }
   ],
   "source": [
    "df.rate.sum() / df.rate.count()"
   ]
  },
  {
   "cell_type": "code",
   "execution_count": 122,
   "metadata": {},
   "outputs": [],
   "source": [
    "rate_stats = df.groupby('gender').aggregate({'rate': sum, 'gender': 'count'})"
   ]
  },
  {
   "cell_type": "code",
   "execution_count": 123,
   "metadata": {},
   "outputs": [
    {
     "data": {
      "text/html": [
       "<div>\n",
       "<style scoped>\n",
       "    .dataframe tbody tr th:only-of-type {\n",
       "        vertical-align: middle;\n",
       "    }\n",
       "\n",
       "    .dataframe tbody tr th {\n",
       "        vertical-align: top;\n",
       "    }\n",
       "\n",
       "    .dataframe thead th {\n",
       "        text-align: right;\n",
       "    }\n",
       "</style>\n",
       "<table border=\"1\" class=\"dataframe\">\n",
       "  <thead>\n",
       "    <tr style=\"text-align: right;\">\n",
       "      <th></th>\n",
       "      <th>rate</th>\n",
       "      <th>gender</th>\n",
       "    </tr>\n",
       "    <tr>\n",
       "      <th>gender</th>\n",
       "      <th></th>\n",
       "      <th></th>\n",
       "    </tr>\n",
       "  </thead>\n",
       "  <tbody>\n",
       "    <tr>\n",
       "      <th>female</th>\n",
       "      <td>210</td>\n",
       "      <td>2</td>\n",
       "    </tr>\n",
       "    <tr>\n",
       "      <th>male</th>\n",
       "      <td>350</td>\n",
       "      <td>4</td>\n",
       "    </tr>\n",
       "  </tbody>\n",
       "</table>\n",
       "</div>"
      ],
      "text/plain": [
       "        rate  gender\n",
       "gender              \n",
       "female   210       2\n",
       "male     350       4"
      ]
     },
     "execution_count": 123,
     "metadata": {},
     "output_type": "execute_result"
    }
   ],
   "source": [
    "rate_stats"
   ]
  },
  {
   "cell_type": "code",
   "execution_count": 124,
   "metadata": {},
   "outputs": [],
   "source": [
    "rate_for_gender = rate_stats.rate / rate_stats.gender"
   ]
  },
  {
   "cell_type": "code",
   "execution_count": 125,
   "metadata": {},
   "outputs": [
    {
     "data": {
      "text/plain": [
       "<matplotlib.axes._subplots.AxesSubplot at 0x10b04fcf8>"
      ]
     },
     "execution_count": 125,
     "metadata": {},
     "output_type": "execute_result"
    },
    {
     "data": {
      "image/png": "[encoded data removed]",
      "text/plain": [
       "<matplotlib.figure.Figure at 0x10b054b70>"
      ]
     },
     "metadata": {},
     "output_type": "display_data"
    }
   ],
   "source": [
    "rate_for_gender.plot(kind='bar')"
   ]
  },
  {
   "cell_type": "code",
   "execution_count": 163,
   "metadata": {},
   "outputs": [],
   "source": [
    "def rate_level(rate):\n",
    "    if rate < 60:\n",
    "        return '1: <60'\n",
    "    elif 60 <= rate < 120:\n",
    "        return '2: 60-120'\n",
    "    else:\n",
    "        return '3: >120'"
   ]
  },
  {
   "cell_type": "code",
   "execution_count": 164,
   "metadata": {},
   "outputs": [],
   "source": [
    "df['rate_level'] = df.rate.apply(rate_level)"
   ]
  },
  {
   "cell_type": "code",
   "execution_count": 133,
   "metadata": {},
   "outputs": [
    {
     "data": {
      "text/html": [
       "<div>\n",
       "<style scoped>\n",
       "    .dataframe tbody tr th:only-of-type {\n",
       "        vertical-align: middle;\n",
       "    }\n",
       "\n",
       "    .dataframe tbody tr th {\n",
       "        vertical-align: top;\n",
       "    }\n",
       "\n",
       "    .dataframe thead th {\n",
       "        text-align: right;\n",
       "    }\n",
       "</style>\n",
       "<table border=\"1\" class=\"dataframe\">\n",
       "  <thead>\n",
       "    <tr style=\"text-align: right;\">\n",
       "      <th></th>\n",
       "      <th>first_name</th>\n",
       "      <th>last_name</th>\n",
       "      <th>gender</th>\n",
       "      <th>date_of_birth</th>\n",
       "      <th>rate</th>\n",
       "      <th>hours</th>\n",
       "      <th>per_month</th>\n",
       "      <th>rate_level</th>\n",
       "    </tr>\n",
       "  </thead>\n",
       "  <tbody>\n",
       "    <tr>\n",
       "      <th>0</th>\n",
       "      <td>Aleksandra</td>\n",
       "      <td>Nowak</td>\n",
       "      <td>female</td>\n",
       "      <td>1988-01-10</td>\n",
       "      <td>100</td>\n",
       "      <td>60</td>\n",
       "      <td>6000</td>\n",
       "      <td>2: 60-120</td>\n",
       "    </tr>\n",
       "    <tr>\n",
       "      <th>1</th>\n",
       "      <td>Tomek</td>\n",
       "      <td>Kowalski</td>\n",
       "      <td>male</td>\n",
       "      <td>1938-10-22</td>\n",
       "      <td>90</td>\n",
       "      <td>20</td>\n",
       "      <td>1800</td>\n",
       "      <td>2: 60-120</td>\n",
       "    </tr>\n",
       "    <tr>\n",
       "      <th>2</th>\n",
       "      <td>Konrad</td>\n",
       "      <td>Lewandowski</td>\n",
       "      <td>male</td>\n",
       "      <td>1986-11-20</td>\n",
       "      <td>50</td>\n",
       "      <td>100</td>\n",
       "      <td>5000</td>\n",
       "      <td>1: &lt;60</td>\n",
       "    </tr>\n",
       "    <tr>\n",
       "      <th>3</th>\n",
       "      <td>Katarzyna</td>\n",
       "      <td>Woźniak</td>\n",
       "      <td>female</td>\n",
       "      <td>1980-02-12</td>\n",
       "      <td>110</td>\n",
       "      <td>50</td>\n",
       "      <td>5500</td>\n",
       "      <td>2: 60-120</td>\n",
       "    </tr>\n",
       "    <tr>\n",
       "      <th>4</th>\n",
       "      <td>Jan</td>\n",
       "      <td>Wiśniewska</td>\n",
       "      <td>male</td>\n",
       "      <td>1978-05-21</td>\n",
       "      <td>170</td>\n",
       "      <td>160</td>\n",
       "      <td>27200</td>\n",
       "      <td>3: &gt;120</td>\n",
       "    </tr>\n",
       "    <tr>\n",
       "      <th>5</th>\n",
       "      <td>Tomek</td>\n",
       "      <td>Błaszczykowski</td>\n",
       "      <td>male</td>\n",
       "      <td>1960-03-01</td>\n",
       "      <td>40</td>\n",
       "      <td>70</td>\n",
       "      <td>2800</td>\n",
       "      <td>1: &lt;60</td>\n",
       "    </tr>\n",
       "  </tbody>\n",
       "</table>\n",
       "</div>"
      ],
      "text/plain": [
       "   first_name       last_name  gender date_of_birth  rate  hours  per_month  \\\n",
       "0  Aleksandra           Nowak  female    1988-01-10   100     60       6000   \n",
       "1       Tomek        Kowalski    male    1938-10-22    90     20       1800   \n",
       "2      Konrad     Lewandowski    male    1986-11-20    50    100       5000   \n",
       "3   Katarzyna         Woźniak  female    1980-02-12   110     50       5500   \n",
       "4         Jan      Wiśniewska    male    1978-05-21   170    160      27200   \n",
       "5       Tomek  Błaszczykowski    male    1960-03-01    40     70       2800   \n",
       "\n",
       "  rate_level  \n",
       "0  2: 60-120  \n",
       "1  2: 60-120  \n",
       "2     1: <60  \n",
       "3  2: 60-120  \n",
       "4    3: >120  \n",
       "5     1: <60  "
      ]
     },
     "execution_count": 133,
     "metadata": {},
     "output_type": "execute_result"
    }
   ],
   "source": [
    "df"
   ]
  },
  {
   "cell_type": "code",
   "execution_count": 165,
   "metadata": {},
   "outputs": [
    {
     "data": {
      "text/plain": [
       "<matplotlib.axes._subplots.AxesSubplot at 0x10ad907f0>"
      ]
     },
     "execution_count": 165,
     "metadata": {},
     "output_type": "execute_result"
    },
    {
     "data": {
      "image/png": "[encoded data removed]",
      "text/plain": [
       "<matplotlib.figure.Figure at 0x10ab38cf8>"
      ]
     },
     "metadata": {},
     "output_type": "display_data"
    }
   ],
   "source": [
    "df.rate_level.value_counts().sort_index().plot(kind='bar')"
   ]
  },
  {
   "cell_type": "code",
   "execution_count": 161,
   "metadata": {},
   "outputs": [
    {
     "data": {
      "text/plain": [
       "0    False\n",
       "1     True\n",
       "2    False\n",
       "3    False\n",
       "4    False\n",
       "5     True\n",
       "Name: per_month, dtype: bool"
      ]
     },
     "execution_count": 161,
     "metadata": {},
     "output_type": "execute_result"
    }
   ],
   "source": [
    "df.per_month < 5000"
   ]
  },
  {
   "cell_type": "code",
   "execution_count": null,
   "metadata": {},
   "outputs": [],
   "source": []
  }
 ],
 "metadata": {
  "kernelspec": {
   "display_name": "Python 3",
   "language": "python",
   "name": "python3"
  },
  "language_info": {
   "codemirror_mode": {
    "name": "ipython",
    "version": 3
   },
   "file_extension": ".py",
   "mimetype": "text/x-python",
   "name": "python",
   "nbconvert_exporter": "python",
   "pygments_lexer": "ipython3",
   "version": "3.7.1"
  }
 },
 "nbformat": 4,
 "nbformat_minor": 2
}
