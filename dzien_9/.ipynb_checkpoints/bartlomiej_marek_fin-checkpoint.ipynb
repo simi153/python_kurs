{
 "cells": [
  {
   "cell_type": "markdown",
   "metadata": {},
   "source": [
    "\n",
    "##  Zapisz notebook w formacie imie_nazwisko_fin.ipynb"
   ]
  },
  {
   "cell_type": "markdown",
   "metadata": {},
   "source": [
    "## Zliczanie dużych liter\n",
    "\n",
    "Napisz funkcję `capital_index`, która przyjmie napis i zwróci listę indeksów na których występuje duża litera"
   ]
  },
  {
   "cell_type": "code",
   "execution_count": 9,
   "metadata": {
    "ExecuteTime": {
     "end_time": "2020-02-05T15:27:13.998917Z",
     "start_time": "2020-02-05T15:27:13.996184Z"
    }
   },
   "outputs": [],
   "source": [
    "def capital_indexes(napis):\n",
    "    lista=[]\n",
    "    for index,litera in enumerate(napis):\n",
    "        if litera.isupper():\n",
    "            lista.append(index)\n",
    "    return lista"
   ]
  },
  {
   "cell_type": "code",
   "execution_count": 10,
   "metadata": {},
   "outputs": [],
   "source": [
    "assert capital_indexes(\"HeLlO\") == [0, 2, 4]"
   ]
  },
  {
   "cell_type": "markdown",
   "metadata": {},
   "source": [
    "## Zliczanie statusów\n",
    "\n",
    "Napisz funkcję `status_counter`, która przyjmie słownik ze statusami (zobacz test) oraz status i zwróci liczbę osób o zadanym statusie\n"
   ]
  },
  {
   "cell_type": "code",
   "execution_count": 16,
   "metadata": {},
   "outputs": [],
   "source": [
    "def online_count(slownik,status):\n",
    "    return list(slownik.values()).count(status)"
   ]
  },
  {
   "cell_type": "code",
   "execution_count": 17,
   "metadata": {
    "ExecuteTime": {
     "end_time": "2020-02-05T15:30:08.011650Z",
     "start_time": "2020-02-05T15:30:07.933434Z"
    }
   },
   "outputs": [],
   "source": [
    "statuses = {\n",
    "    \"Alice\": \"online\",\n",
    "    \"Bob\": \"offline\",\n",
    "    \"Eve\": \"online\",\n",
    "}\n",
    "\n",
    "assert online_count(statuses, \"online\") == 2\n",
    "assert online_count(statuses, \"offline\") == 1"
   ]
  },
  {
   "cell_type": "markdown",
   "metadata": {},
   "source": [
    "## Sprawdzanie typów\n",
    "\n",
    "Napisz funkcję `only_ints`, która przyjmie dwa argumenty i zwróci prawdę jeśli oba są typu `int` w przeciwnym razie zwróci `False`"
   ]
  },
  {
   "cell_type": "code",
   "execution_count": 24,
   "metadata": {},
   "outputs": [],
   "source": [
    "def only_ints(a,b):\n",
    "    if type(a)==int and type(b)==int:\n",
    "        return True\n",
    "    else:\n",
    "        return False"
   ]
  },
  {
   "cell_type": "code",
   "execution_count": 25,
   "metadata": {},
   "outputs": [],
   "source": [
    "assert only_ints(1, 2) == True\n",
    "assert only_ints(1, True) == False\n",
    "assert only_ints(\"a\", 1) == False"
   ]
  },
  {
   "cell_type": "markdown",
   "metadata": {},
   "source": [
    "## Wyszukiwanie podwójnych znaków\n",
    "\n",
    "Zdefiniuj funkcję `double_letters` która przyjmie jako argument text. \n",
    "Funkcja zwróci prawdę jeśli w tekście występują obok siebie dwie identyczne litery.\n",
    "W przeciwnym wypadku zwróci False"
   ]
  },
  {
   "cell_type": "code",
   "execution_count": 31,
   "metadata": {},
   "outputs": [],
   "source": [
    "def double_letters(napis):\n",
    "    napis.strip()\n",
    "    for index in range(len(napis)-1):\n",
    "        if napis[index] == napis[index+1]:\n",
    "            return True\n",
    "    return False"
   ]
  },
  {
   "cell_type": "code",
   "execution_count": 30,
   "metadata": {},
   "outputs": [],
   "source": [
    "assert double_letters(\"ala\") == False\n",
    "assert double_letters(\"Hello\") == True\n",
    "assert double_letters(\"abc\") == False\n",
    "assert double_letters(\"nono\") == False"
   ]
  },
  {
   "cell_type": "markdown",
   "metadata": {},
   "source": [
    "## Anagram\n",
    "\n",
    "Napisz funkcję, która srpawdzi, czy podane dwa teksty są anagramami. Tzn.. czy z liter jednego da się ułożyć drugi"
   ]
  },
  {
   "cell_type": "code",
   "execution_count": 32,
   "metadata": {},
   "outputs": [],
   "source": [
    "def is_anagram(napis1,napis2):\n",
    "    napis1 = sorted(list(napis1))\n",
    "    napis2 = sorted(list(napis2))\n",
    "    return napis1==napis2"
   ]
  },
  {
   "cell_type": "code",
   "execution_count": 33,
   "metadata": {},
   "outputs": [],
   "source": [
    "assert is_anagram(\"typhoon\", \"opython\") == True \n",
    "assert is_anagram(\"Alice\", \"Bob\") == False\n"
   ]
  },
  {
   "cell_type": "markdown",
   "metadata": {},
   "source": [
    "## Największa różnica\n",
    "\n",
    "Napisz funkcję `largest_difference`, która dla zadanej listy liczby zwróci wartość największej różnicy miedzy jej elementami\n"
   ]
  },
  {
   "cell_type": "code",
   "execution_count": 34,
   "metadata": {},
   "outputs": [],
   "source": [
    "def largest_difference(lista):\n",
    "    return max(lista)-min(lista)"
   ]
  },
  {
   "cell_type": "code",
   "execution_count": 35,
   "metadata": {},
   "outputs": [],
   "source": [
    "assert largest_difference([1, 2, 3]) == 2"
   ]
  },
  {
   "cell_type": "markdown",
   "metadata": {},
   "source": [
    "## Kółko i krzyżyk - pozycja\n",
    "\n",
    "Mamy przykładową planszę:\n",
    "\n",
    "    1:  X | O | X\n",
    "       -----------\n",
    "    2:    |   |  \n",
    "       -----------\n",
    "    3:  O |   |\n",
    "\n",
    "        A   B  C\n",
    "\n",
    "Może być ona reprezentowana w Pythonie jako:\n",
    "\n",
    "    board = [\n",
    "        [\"X\", \"O\", \"X\"],\n",
    "        [\" \", \" \", \" \"],\n",
    "        [\"O\", \" \", \" \"],\n",
    "    ]\n",
    "\n",
    "Napisz funkcję `get_row_col`, która przyjmie napis reprezentujący położenie na planszy\n",
    "i zwróci tuplę odpowiadająca pozycji w `board`\n",
    "\n"
   ]
  },
  {
   "cell_type": "code",
   "execution_count": 36,
   "metadata": {},
   "outputs": [],
   "source": [
    "def get_row_col(napis):\n",
    "    collumns=\"ABC\"\n",
    "    rows=\"123\"\n",
    "    if len(napis)==2:\n",
    "        col=collumns.index(napis[0])\n",
    "        row=rows.index(napis[1])\n",
    "    return row,col"
   ]
  },
  {
   "cell_type": "code",
   "execution_count": 37,
   "metadata": {
    "ExecuteTime": {
     "end_time": "2020-02-05T15:51:17.662699Z",
     "start_time": "2020-02-05T15:51:17.574871Z"
    }
   },
   "outputs": [],
   "source": [
    "assert get_row_col('A3') == (2, 0)"
   ]
  },
  {
   "cell_type": "markdown",
   "metadata": {},
   "source": [
    "## Person\n",
    "\n",
    "Zdefiniuj klasę Person, którą będzie tworzyć się podając name, last_name, b_year\n",
    "Niech klasa ma atrybut dynamiczny wyliczający wiek danej osoby\n",
    "\n",
    "Zrzutowanie na `str` powinno być w formacie \"J.Nowak (39)\"\n"
   ]
  },
  {
   "cell_type": "code",
   "execution_count": 41,
   "metadata": {},
   "outputs": [],
   "source": [
    "class Person:\n",
    "    def __init__(self,imie,nazwisko,rok_ur):\n",
    "        self.imie = imie\n",
    "        self.nazwisko = nazwisko\n",
    "        self.wiek = 2020-rok_ur\n",
    "    def __str__(self):\n",
    "        return f\"{self.imie[0]}.{self.nazwisko} ({self.wiek})\""
   ]
  },
  {
   "cell_type": "code",
   "execution_count": 42,
   "metadata": {
    "ExecuteTime": {
     "end_time": "2020-02-05T15:54:17.801782Z",
     "start_time": "2020-02-05T15:54:17.684934Z"
    }
   },
   "outputs": [],
   "source": [
    "person = Person(\"Jan\", \"Nowak\", 1981)\n",
    "\n",
    "assert str(person) == \"J.Nowak (39)\""
   ]
  },
  {
   "cell_type": "markdown",
   "metadata": {},
   "source": [
    "## Numpy\n",
    "\n",
    "Przy pomocy numpy utwórz tablicę randomowych wartości o długości 100. \n",
    "Zwróć ich średnią"
   ]
  },
  {
   "cell_type": "code",
   "execution_count": 66,
   "metadata": {},
   "outputs": [],
   "source": [
    "import numpy as np\n",
    "\n",
    "lista = np.random.random(100)\n",
    "srednia = np.average(lista)"
   ]
  },
  {
   "cell_type": "code",
   "execution_count": 67,
   "metadata": {},
   "outputs": [
    {
     "data": {
      "text/plain": [
       "0.5105266987338347"
      ]
     },
     "execution_count": 67,
     "metadata": {},
     "output_type": "execute_result"
    }
   ],
   "source": [
    "srednia"
   ]
  }
 ],
 "metadata": {
  "kernelspec": {
   "display_name": "Python 3",
   "language": "python",
   "name": "python3"
  },
  "language_info": {
   "codemirror_mode": {
    "name": "ipython",
    "version": 3
   },
   "file_extension": ".py",
   "mimetype": "text/x-python",
   "name": "python",
   "nbconvert_exporter": "python",
   "pygments_lexer": "ipython3",
   "version": "3.7.4"
  },
  "toc": {
   "base_numbering": 1,
   "nav_menu": {},
   "number_sections": true,
   "sideBar": true,
   "skip_h1_title": false,
   "title_cell": "Table of Contents",
   "title_sidebar": "Contents",
   "toc_cell": false,
   "toc_position": {},
   "toc_section_display": true,
   "toc_window_display": false
  }
 },
 "nbformat": 4,
 "nbformat_minor": 2
}
